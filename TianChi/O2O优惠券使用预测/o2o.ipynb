{
 "cells": [
  {
   "cell_type": "markdown",
   "metadata": {},
   "source": [
    "# 天池o2o优惠券使用预测"
   ]
  },
  {
   "cell_type": "markdown",
   "metadata": {},
   "source": [
    "## 加载相关库"
   ]
  },
  {
   "cell_type": "code",
   "execution_count": 1,
   "metadata": {
    "ExecuteTime": {
     "end_time": "2019-05-05T17:43:18.312084Z",
     "start_time": "2019-05-05T17:43:17.538431Z"
    }
   },
   "outputs": [],
   "source": [
    "# Import libraries necessary for this project\n",
    "import pandas as pd\n",
    "import numpy as np\n",
    "import warnings\n",
    "\n",
    "warnings.filterwarnings('ignore')"
   ]
  },
  {
   "cell_type": "markdown",
   "metadata": {},
   "source": [
    "## 导入数据"
   ]
  },
  {
   "cell_type": "code",
   "execution_count": 2,
   "metadata": {
    "ExecuteTime": {
     "end_time": "2019-05-05T17:43:29.558631Z",
     "start_time": "2019-05-05T17:43:18.316671Z"
    }
   },
   "outputs": [],
   "source": [
    "df_offline = pd.read_csv('./data/ccf_offline_stage1_train.csv', keep_default_na=False)\n",
    "df_online = pd.read_csv('./data/ccf_online_stage1_train.csv', keep_default_na=False)\n",
    "df_test = pd.read_csv('./data/ccf_offline_stage1_test_revised.csv', keep_default_na=False)"
   ]
  },
  {
   "cell_type": "code",
   "execution_count": 3,
   "metadata": {
    "ExecuteTime": {
     "end_time": "2019-05-05T17:43:29.584461Z",
     "start_time": "2019-05-05T17:43:29.560847Z"
    }
   },
   "outputs": [
    {
     "data": {
      "text/html": [
       "<div>\n",
       "<style scoped>\n",
       "    .dataframe tbody tr th:only-of-type {\n",
       "        vertical-align: middle;\n",
       "    }\n",
       "\n",
       "    .dataframe tbody tr th {\n",
       "        vertical-align: top;\n",
       "    }\n",
       "\n",
       "    .dataframe thead th {\n",
       "        text-align: right;\n",
       "    }\n",
       "</style>\n",
       "<table border=\"1\" class=\"dataframe\">\n",
       "  <thead>\n",
       "    <tr style=\"text-align: right;\">\n",
       "      <th></th>\n",
       "      <th>User_id</th>\n",
       "      <th>Merchant_id</th>\n",
       "      <th>Coupon_id</th>\n",
       "      <th>Discount_rate</th>\n",
       "      <th>Distance</th>\n",
       "      <th>Date_received</th>\n",
       "      <th>Date</th>\n",
       "    </tr>\n",
       "  </thead>\n",
       "  <tbody>\n",
       "    <tr>\n",
       "      <th>0</th>\n",
       "      <td>1439408</td>\n",
       "      <td>2632</td>\n",
       "      <td>null</td>\n",
       "      <td>null</td>\n",
       "      <td>0</td>\n",
       "      <td>null</td>\n",
       "      <td>20160217</td>\n",
       "    </tr>\n",
       "    <tr>\n",
       "      <th>1</th>\n",
       "      <td>1439408</td>\n",
       "      <td>4663</td>\n",
       "      <td>11002</td>\n",
       "      <td>150:20</td>\n",
       "      <td>1</td>\n",
       "      <td>20160528</td>\n",
       "      <td>null</td>\n",
       "    </tr>\n",
       "    <tr>\n",
       "      <th>2</th>\n",
       "      <td>1439408</td>\n",
       "      <td>2632</td>\n",
       "      <td>8591</td>\n",
       "      <td>20:1</td>\n",
       "      <td>0</td>\n",
       "      <td>20160217</td>\n",
       "      <td>null</td>\n",
       "    </tr>\n",
       "    <tr>\n",
       "      <th>3</th>\n",
       "      <td>1439408</td>\n",
       "      <td>2632</td>\n",
       "      <td>1078</td>\n",
       "      <td>20:1</td>\n",
       "      <td>0</td>\n",
       "      <td>20160319</td>\n",
       "      <td>null</td>\n",
       "    </tr>\n",
       "    <tr>\n",
       "      <th>4</th>\n",
       "      <td>1439408</td>\n",
       "      <td>2632</td>\n",
       "      <td>8591</td>\n",
       "      <td>20:1</td>\n",
       "      <td>0</td>\n",
       "      <td>20160613</td>\n",
       "      <td>null</td>\n",
       "    </tr>\n",
       "  </tbody>\n",
       "</table>\n",
       "</div>"
      ],
      "text/plain": [
       "   User_id  Merchant_id Coupon_id Discount_rate Distance Date_received  \\\n",
       "0  1439408         2632      null          null        0          null   \n",
       "1  1439408         4663     11002        150:20        1      20160528   \n",
       "2  1439408         2632      8591          20:1        0      20160217   \n",
       "3  1439408         2632      1078          20:1        0      20160319   \n",
       "4  1439408         2632      8591          20:1        0      20160613   \n",
       "\n",
       "       Date  \n",
       "0  20160217  \n",
       "1      null  \n",
       "2      null  \n",
       "3      null  \n",
       "4      null  "
      ]
     },
     "execution_count": 3,
     "metadata": {},
     "output_type": "execute_result"
    }
   ],
   "source": [
    "df_offline.head()"
   ]
  },
  {
   "cell_type": "code",
   "execution_count": 4,
   "metadata": {
    "ExecuteTime": {
     "end_time": "2019-05-05T17:43:29.602847Z",
     "start_time": "2019-05-05T17:43:29.589055Z"
    }
   },
   "outputs": [
    {
     "name": "stdout",
     "output_type": "stream",
     "text": [
      "<class 'pandas.core.frame.DataFrame'>\n",
      "RangeIndex: 1754884 entries, 0 to 1754883\n",
      "Data columns (total 7 columns):\n",
      "User_id          int64\n",
      "Merchant_id      int64\n",
      "Coupon_id        object\n",
      "Discount_rate    object\n",
      "Distance         object\n",
      "Date_received    object\n",
      "Date             object\n",
      "dtypes: int64(2), object(5)\n",
      "memory usage: 93.7+ MB\n"
     ]
    }
   ],
   "source": [
    "df_offline.info()"
   ]
  },
  {
   "cell_type": "markdown",
   "metadata": {},
   "source": [
    "## 简单统计"
   ]
  },
  {
   "cell_type": "markdown",
   "metadata": {},
   "source": [
    "简单统计一下用户使用优惠券的情况"
   ]
  },
  {
   "cell_type": "code",
   "execution_count": 5,
   "metadata": {
    "ExecuteTime": {
     "end_time": "2019-05-05T17:43:30.705081Z",
     "start_time": "2019-05-05T17:43:29.606741Z"
    }
   },
   "outputs": [],
   "source": [
    "receive_and_buy = df_offline[(df_offline['Date_received'] != 'null') & (df_offline['Date'] != 'null')]\n",
    "receive_not_buy = df_offline[(df_offline['Date_received'] != 'null') & (df_offline['Date'] == 'null')]\n",
    "not_receive_and_buy = df_offline[(df_offline['Date_received'] == 'null') & (df_offline['Date'] != 'null')]\n",
    "not_receive_not_buy = df_offline[(df_offline['Date_received'] == 'null') & (df_offline['Date'] == 'null')]"
   ]
  },
  {
   "cell_type": "code",
   "execution_count": 6,
   "metadata": {
    "ExecuteTime": {
     "end_time": "2019-05-05T17:43:30.712735Z",
     "start_time": "2019-05-05T17:43:30.707354Z"
    }
   },
   "outputs": [
    {
     "name": "stdout",
     "output_type": "stream",
     "text": [
      "有优惠券，购买商品：75382\n",
      "有优惠券，未购商品：977900\n",
      "无优惠券，购买商品：701602\n",
      "无优惠券，未购商品：0\n"
     ]
    }
   ],
   "source": [
    "print('有优惠券，购买商品：{}'.format(receive_and_buy.shape[0]))\n",
    "print('有优惠券，未购商品：{}'.format(receive_not_buy.shape[0]))\n",
    "print('无优惠券，购买商品：{}'.format(not_receive_and_buy.shape[0]))\n",
    "print('无优惠券，未购商品：{}'.format(not_receive_not_buy.shape[0]))"
   ]
  },
  {
   "cell_type": "markdown",
   "metadata": {},
   "source": [
    "可见，很多人（701602）购买商品却没有使用优惠券，也有很多人（977900）有优惠券但却没有使用，真正使用优惠券购买商品的人（75382）很少！所以，这个比赛的意义就是把优惠券送给真正可能会购买商品的人。"
   ]
  },
  {
   "cell_type": "markdown",
   "metadata": {},
   "source": [
    "## 特征提取"
   ]
  },
  {
   "cell_type": "code",
   "execution_count": 7,
   "metadata": {
    "ExecuteTime": {
     "end_time": "2019-05-05T17:43:30.724341Z",
     "start_time": "2019-05-05T17:43:30.716834Z"
    }
   },
   "outputs": [
    {
     "name": "stdout",
     "output_type": "stream",
     "text": [
      "Index(['User_id', 'Merchant_id', 'Coupon_id', 'Discount_rate', 'Distance',\n",
      "       'Date_received', 'Date'],\n",
      "      dtype='object')\n"
     ]
    }
   ],
   "source": [
    "print(df_offline.columns)"
   ]
  },
  {
   "cell_type": "markdown",
   "metadata": {},
   "source": [
    "### 打折率 Discount_rate"
   ]
  },
  {
   "cell_type": "code",
   "execution_count": 8,
   "metadata": {
    "ExecuteTime": {
     "end_time": "2019-05-05T17:43:30.832067Z",
     "start_time": "2019-05-05T17:43:30.727769Z"
    }
   },
   "outputs": [
    {
     "data": {
      "text/plain": [
       "array(['null', '150:20', '20:1', '200:20', '30:5', '50:10', '10:5',\n",
       "       '100:10', '200:30', '20:5', '30:10', '50:5', '150:10', '100:30',\n",
       "       '200:50', '100:50', '300:30', '50:20', '0.9', '10:1', '30:1',\n",
       "       '0.95', '100:5', '5:1', '100:20', '0.8', '50:1', '200:10',\n",
       "       '300:20', '100:1', '150:30', '300:50', '20:10', '0.85', '0.6',\n",
       "       '150:50', '0.75', '0.5', '200:5', '0.7', '30:20', '300:10', '0.2',\n",
       "       '50:30', '200:100', '150:5'], dtype=object)"
      ]
     },
     "execution_count": 8,
     "metadata": {},
     "output_type": "execute_result"
    }
   ],
   "source": [
    "df_offline['Discount_rate'].unique()"
   ]
  },
  {
   "cell_type": "markdown",
   "metadata": {},
   "source": [
    "打折率分为 3 种情况：\n",
    "\n",
    "- 'null' 表示没有打折: -1\n",
    "- [0,1] 表示折扣率: 0\n",
    "- x:y 表示满x减y: 1"
   ]
  },
  {
   "cell_type": "markdown",
   "metadata": {},
   "source": [
    "处理方式：\n",
    "\n",
    "- 打折类型：getDiscountType()\n",
    "- 折扣率：convertRate()\n",
    "- 满多少：getDiscountTarget()\n",
    "- 减多少：getDiscountReduce()"
   ]
  },
  {
   "cell_type": "markdown",
   "metadata": {},
   "source": [
    "**Build functions to deal with the Discount_rate**"
   ]
  },
  {
   "cell_type": "code",
   "execution_count": 9,
   "metadata": {
    "ExecuteTime": {
     "end_time": "2019-05-05T17:43:30.839371Z",
     "start_time": "2019-05-05T17:43:30.834581Z"
    }
   },
   "outputs": [],
   "source": [
    "def getDiscountType(row):\n",
    "    if row == 'null':\n",
    "        return -1\n",
    "    elif ':' in row:\n",
    "        return 1\n",
    "    else:\n",
    "        return 0"
   ]
  },
  {
   "cell_type": "code",
   "execution_count": 10,
   "metadata": {
    "ExecuteTime": {
     "end_time": "2019-05-05T17:43:30.847016Z",
     "start_time": "2019-05-05T17:43:30.842275Z"
    }
   },
   "outputs": [],
   "source": [
    "def convertRate(row):\n",
    "    if row == 'null':\n",
    "        return 1.0\n",
    "    elif ':' in row:\n",
    "        rows = row.split(':')\n",
    "        return 1 - float(rows[1])/float(rows[0])\n",
    "    else:\n",
    "        return float(row)"
   ]
  },
  {
   "cell_type": "code",
   "execution_count": 11,
   "metadata": {
    "ExecuteTime": {
     "end_time": "2019-05-05T17:43:30.855449Z",
     "start_time": "2019-05-05T17:43:30.849622Z"
    }
   },
   "outputs": [],
   "source": [
    "def getDiscountTarget(row):\n",
    "    if ':' in row:\n",
    "        rows = row.split(':')\n",
    "        return int(rows[0])\n",
    "    else:\n",
    "        return 0"
   ]
  },
  {
   "cell_type": "code",
   "execution_count": 12,
   "metadata": {
    "ExecuteTime": {
     "end_time": "2019-05-05T17:43:30.861184Z",
     "start_time": "2019-05-05T17:43:30.857364Z"
    }
   },
   "outputs": [],
   "source": [
    "def getDiscountReduce(row):\n",
    "    if ':' in row:\n",
    "        rows = row.split(':')\n",
    "        return int(rows[1])\n",
    "    else:\n",
    "        return 0"
   ]
  },
  {
   "cell_type": "code",
   "execution_count": 13,
   "metadata": {
    "ExecuteTime": {
     "end_time": "2019-05-05T17:43:30.870389Z",
     "start_time": "2019-05-05T17:43:30.864336Z"
    }
   },
   "outputs": [],
   "source": [
    "def processData(df):\n",
    "    df['Discount_type'] = df['Discount_rate'].apply(getDiscountType)\n",
    "    df['Convert_rate'] = df['Discount_rate'].apply(convertRate)\n",
    "    df['Discount_target'] = df['Discount_rate'].apply(getDiscountTarget)\n",
    "    df['Discount_reduce'] = df['Discount_rate'].apply(getDiscountReduce)\n",
    "    \n",
    "    return df"
   ]
  },
  {
   "cell_type": "code",
   "execution_count": 14,
   "metadata": {
    "ExecuteTime": {
     "end_time": "2019-05-05T17:43:35.361604Z",
     "start_time": "2019-05-05T17:43:30.872550Z"
    }
   },
   "outputs": [],
   "source": [
    "df_offline = processData(df_offline)\n",
    "df_test = processData(df_test)"
   ]
  },
  {
   "cell_type": "code",
   "execution_count": 15,
   "metadata": {
    "ExecuteTime": {
     "end_time": "2019-05-05T17:43:35.551689Z",
     "start_time": "2019-05-05T17:43:35.363882Z"
    }
   },
   "outputs": [],
   "source": [
    "df_offline = df_offline.drop(['Discount_rate'], axis=1)\n",
    "df_test = df_test.drop(['Discount_rate'], axis=1)"
   ]
  },
  {
   "cell_type": "code",
   "execution_count": 16,
   "metadata": {
    "ExecuteTime": {
     "end_time": "2019-05-05T17:43:35.655975Z",
     "start_time": "2019-05-05T17:43:35.553485Z"
    }
   },
   "outputs": [
    {
     "data": {
      "text/html": [
       "<div>\n",
       "<style scoped>\n",
       "    .dataframe tbody tr th:only-of-type {\n",
       "        vertical-align: middle;\n",
       "    }\n",
       "\n",
       "    .dataframe tbody tr th {\n",
       "        vertical-align: top;\n",
       "    }\n",
       "\n",
       "    .dataframe thead th {\n",
       "        text-align: right;\n",
       "    }\n",
       "</style>\n",
       "<table border=\"1\" class=\"dataframe\">\n",
       "  <thead>\n",
       "    <tr style=\"text-align: right;\">\n",
       "      <th></th>\n",
       "      <th>User_id</th>\n",
       "      <th>Merchant_id</th>\n",
       "      <th>Coupon_id</th>\n",
       "      <th>Distance</th>\n",
       "      <th>Date_received</th>\n",
       "      <th>Date</th>\n",
       "      <th>Discount_type</th>\n",
       "      <th>Convert_rate</th>\n",
       "      <th>Discount_target</th>\n",
       "      <th>Discount_reduce</th>\n",
       "    </tr>\n",
       "  </thead>\n",
       "  <tbody>\n",
       "    <tr>\n",
       "      <th>432973</th>\n",
       "      <td>4575554</td>\n",
       "      <td>7418</td>\n",
       "      <td>6998</td>\n",
       "      <td>null</td>\n",
       "      <td>20160523</td>\n",
       "      <td>null</td>\n",
       "      <td>1</td>\n",
       "      <td>0.900000</td>\n",
       "      <td>10</td>\n",
       "      <td>1</td>\n",
       "    </tr>\n",
       "    <tr>\n",
       "      <th>96041</th>\n",
       "      <td>1877504</td>\n",
       "      <td>6485</td>\n",
       "      <td>10323</td>\n",
       "      <td>0</td>\n",
       "      <td>20160327</td>\n",
       "      <td>null</td>\n",
       "      <td>1</td>\n",
       "      <td>0.750000</td>\n",
       "      <td>20</td>\n",
       "      <td>5</td>\n",
       "    </tr>\n",
       "    <tr>\n",
       "      <th>572669</th>\n",
       "      <td>2917710</td>\n",
       "      <td>7717</td>\n",
       "      <td>null</td>\n",
       "      <td>0</td>\n",
       "      <td>null</td>\n",
       "      <td>20160606</td>\n",
       "      <td>-1</td>\n",
       "      <td>1.000000</td>\n",
       "      <td>0</td>\n",
       "      <td>0</td>\n",
       "    </tr>\n",
       "    <tr>\n",
       "      <th>904758</th>\n",
       "      <td>2724121</td>\n",
       "      <td>7555</td>\n",
       "      <td>null</td>\n",
       "      <td>0</td>\n",
       "      <td>null</td>\n",
       "      <td>20160306</td>\n",
       "      <td>-1</td>\n",
       "      <td>1.000000</td>\n",
       "      <td>0</td>\n",
       "      <td>0</td>\n",
       "    </tr>\n",
       "    <tr>\n",
       "      <th>1267904</th>\n",
       "      <td>5405704</td>\n",
       "      <td>6650</td>\n",
       "      <td>12910</td>\n",
       "      <td>0</td>\n",
       "      <td>20160520</td>\n",
       "      <td>20160520</td>\n",
       "      <td>1</td>\n",
       "      <td>0.966667</td>\n",
       "      <td>30</td>\n",
       "      <td>1</td>\n",
       "    </tr>\n",
       "    <tr>\n",
       "      <th>540347</th>\n",
       "      <td>377955</td>\n",
       "      <td>55</td>\n",
       "      <td>6706</td>\n",
       "      <td>9</td>\n",
       "      <td>20160516</td>\n",
       "      <td>null</td>\n",
       "      <td>1</td>\n",
       "      <td>0.750000</td>\n",
       "      <td>20</td>\n",
       "      <td>5</td>\n",
       "    </tr>\n",
       "    <tr>\n",
       "      <th>1048323</th>\n",
       "      <td>7048779</td>\n",
       "      <td>2099</td>\n",
       "      <td>12034</td>\n",
       "      <td>0</td>\n",
       "      <td>20160128</td>\n",
       "      <td>null</td>\n",
       "      <td>1</td>\n",
       "      <td>0.900000</td>\n",
       "      <td>100</td>\n",
       "      <td>10</td>\n",
       "    </tr>\n",
       "    <tr>\n",
       "      <th>15915</th>\n",
       "      <td>880863</td>\n",
       "      <td>5341</td>\n",
       "      <td>11539</td>\n",
       "      <td>0</td>\n",
       "      <td>20160205</td>\n",
       "      <td>20160207</td>\n",
       "      <td>1</td>\n",
       "      <td>0.833333</td>\n",
       "      <td>30</td>\n",
       "      <td>5</td>\n",
       "    </tr>\n",
       "    <tr>\n",
       "      <th>43460</th>\n",
       "      <td>3543464</td>\n",
       "      <td>7884</td>\n",
       "      <td>7484</td>\n",
       "      <td>0</td>\n",
       "      <td>20160121</td>\n",
       "      <td>null</td>\n",
       "      <td>1</td>\n",
       "      <td>0.950000</td>\n",
       "      <td>20</td>\n",
       "      <td>1</td>\n",
       "    </tr>\n",
       "    <tr>\n",
       "      <th>190285</th>\n",
       "      <td>3584666</td>\n",
       "      <td>2099</td>\n",
       "      <td>null</td>\n",
       "      <td>0</td>\n",
       "      <td>null</td>\n",
       "      <td>20160525</td>\n",
       "      <td>-1</td>\n",
       "      <td>1.000000</td>\n",
       "      <td>0</td>\n",
       "      <td>0</td>\n",
       "    </tr>\n",
       "  </tbody>\n",
       "</table>\n",
       "</div>"
      ],
      "text/plain": [
       "         User_id  Merchant_id Coupon_id Distance Date_received      Date  \\\n",
       "432973   4575554         7418      6998     null      20160523      null   \n",
       "96041    1877504         6485     10323        0      20160327      null   \n",
       "572669   2917710         7717      null        0          null  20160606   \n",
       "904758   2724121         7555      null        0          null  20160306   \n",
       "1267904  5405704         6650     12910        0      20160520  20160520   \n",
       "540347    377955           55      6706        9      20160516      null   \n",
       "1048323  7048779         2099     12034        0      20160128      null   \n",
       "15915     880863         5341     11539        0      20160205  20160207   \n",
       "43460    3543464         7884      7484        0      20160121      null   \n",
       "190285   3584666         2099      null        0          null  20160525   \n",
       "\n",
       "         Discount_type  Convert_rate  Discount_target  Discount_reduce  \n",
       "432973               1      0.900000               10                1  \n",
       "96041                1      0.750000               20                5  \n",
       "572669              -1      1.000000                0                0  \n",
       "904758              -1      1.000000                0                0  \n",
       "1267904              1      0.966667               30                1  \n",
       "540347               1      0.750000               20                5  \n",
       "1048323              1      0.900000              100               10  \n",
       "15915                1      0.833333               30                5  \n",
       "43460                1      0.950000               20                1  \n",
       "190285              -1      1.000000                0                0  "
      ]
     },
     "execution_count": 16,
     "metadata": {},
     "output_type": "execute_result"
    }
   ],
   "source": [
    "df_offline.sample(10)"
   ]
  },
  {
   "cell_type": "markdown",
   "metadata": {},
   "source": [
    "### 距离 Distance"
   ]
  },
  {
   "cell_type": "code",
   "execution_count": 17,
   "metadata": {
    "ExecuteTime": {
     "end_time": "2019-05-05T17:43:35.782241Z",
     "start_time": "2019-05-05T17:43:35.658381Z"
    }
   },
   "outputs": [
    {
     "data": {
      "text/plain": [
       "array(['0', '1', 'null', '2', '10', '4', '7', '9', '3', '5', '6', '8'],\n",
       "      dtype=object)"
      ]
     },
     "execution_count": 17,
     "metadata": {},
     "output_type": "execute_result"
    }
   ],
   "source": [
    "df_offline['Distance'].unique()"
   ]
  },
  {
   "cell_type": "markdown",
   "metadata": {},
   "source": [
    "- 将距离数据类型由str转换为int\n",
    "- 将null转换为-1"
   ]
  },
  {
   "cell_type": "code",
   "execution_count": 18,
   "metadata": {
    "ExecuteTime": {
     "end_time": "2019-05-05T17:43:36.335172Z",
     "start_time": "2019-05-05T17:43:35.798569Z"
    }
   },
   "outputs": [],
   "source": [
    "df_offline['Distance'] = df_offline['Distance'].replace('null', -1).astype(int) \n",
    "df_test['Distance'] = df_test['Distance'].replace('null', -1).astype(int)"
   ]
  },
  {
   "cell_type": "code",
   "execution_count": 19,
   "metadata": {
    "ExecuteTime": {
     "end_time": "2019-05-05T17:43:36.535307Z",
     "start_time": "2019-05-05T17:43:36.339115Z"
    }
   },
   "outputs": [
    {
     "data": {
      "text/html": [
       "<div>\n",
       "<style scoped>\n",
       "    .dataframe tbody tr th:only-of-type {\n",
       "        vertical-align: middle;\n",
       "    }\n",
       "\n",
       "    .dataframe tbody tr th {\n",
       "        vertical-align: top;\n",
       "    }\n",
       "\n",
       "    .dataframe thead th {\n",
       "        text-align: right;\n",
       "    }\n",
       "</style>\n",
       "<table border=\"1\" class=\"dataframe\">\n",
       "  <thead>\n",
       "    <tr style=\"text-align: right;\">\n",
       "      <th></th>\n",
       "      <th>User_id</th>\n",
       "      <th>Merchant_id</th>\n",
       "      <th>Coupon_id</th>\n",
       "      <th>Distance</th>\n",
       "      <th>Date_received</th>\n",
       "      <th>Date</th>\n",
       "      <th>Discount_type</th>\n",
       "      <th>Convert_rate</th>\n",
       "      <th>Discount_target</th>\n",
       "      <th>Discount_reduce</th>\n",
       "    </tr>\n",
       "  </thead>\n",
       "  <tbody>\n",
       "    <tr>\n",
       "      <th>454214</th>\n",
       "      <td>6742490</td>\n",
       "      <td>2277</td>\n",
       "      <td>1495</td>\n",
       "      <td>1</td>\n",
       "      <td>20160518</td>\n",
       "      <td>null</td>\n",
       "      <td>1</td>\n",
       "      <td>0.666667</td>\n",
       "      <td>30</td>\n",
       "      <td>10</td>\n",
       "    </tr>\n",
       "    <tr>\n",
       "      <th>237020</th>\n",
       "      <td>1230452</td>\n",
       "      <td>1403</td>\n",
       "      <td>11941</td>\n",
       "      <td>8</td>\n",
       "      <td>20160615</td>\n",
       "      <td>null</td>\n",
       "      <td>1</td>\n",
       "      <td>0.950000</td>\n",
       "      <td>20</td>\n",
       "      <td>1</td>\n",
       "    </tr>\n",
       "    <tr>\n",
       "      <th>105059</th>\n",
       "      <td>2713100</td>\n",
       "      <td>2934</td>\n",
       "      <td>null</td>\n",
       "      <td>1</td>\n",
       "      <td>null</td>\n",
       "      <td>20160228</td>\n",
       "      <td>-1</td>\n",
       "      <td>1.000000</td>\n",
       "      <td>0</td>\n",
       "      <td>0</td>\n",
       "    </tr>\n",
       "    <tr>\n",
       "      <th>718815</th>\n",
       "      <td>4933760</td>\n",
       "      <td>2225</td>\n",
       "      <td>null</td>\n",
       "      <td>0</td>\n",
       "      <td>null</td>\n",
       "      <td>20160418</td>\n",
       "      <td>-1</td>\n",
       "      <td>1.000000</td>\n",
       "      <td>0</td>\n",
       "      <td>0</td>\n",
       "    </tr>\n",
       "    <tr>\n",
       "      <th>808684</th>\n",
       "      <td>5650856</td>\n",
       "      <td>3621</td>\n",
       "      <td>2705</td>\n",
       "      <td>0</td>\n",
       "      <td>20160520</td>\n",
       "      <td>null</td>\n",
       "      <td>1</td>\n",
       "      <td>0.750000</td>\n",
       "      <td>20</td>\n",
       "      <td>5</td>\n",
       "    </tr>\n",
       "    <tr>\n",
       "      <th>1685593</th>\n",
       "      <td>5516663</td>\n",
       "      <td>4663</td>\n",
       "      <td>818</td>\n",
       "      <td>5</td>\n",
       "      <td>20160124</td>\n",
       "      <td>null</td>\n",
       "      <td>1</td>\n",
       "      <td>0.866667</td>\n",
       "      <td>150</td>\n",
       "      <td>20</td>\n",
       "    </tr>\n",
       "    <tr>\n",
       "      <th>600264</th>\n",
       "      <td>2384766</td>\n",
       "      <td>7354</td>\n",
       "      <td>null</td>\n",
       "      <td>1</td>\n",
       "      <td>null</td>\n",
       "      <td>20160405</td>\n",
       "      <td>-1</td>\n",
       "      <td>1.000000</td>\n",
       "      <td>0</td>\n",
       "      <td>0</td>\n",
       "    </tr>\n",
       "    <tr>\n",
       "      <th>506859</th>\n",
       "      <td>7040239</td>\n",
       "      <td>1433</td>\n",
       "      <td>null</td>\n",
       "      <td>0</td>\n",
       "      <td>null</td>\n",
       "      <td>20160530</td>\n",
       "      <td>-1</td>\n",
       "      <td>1.000000</td>\n",
       "      <td>0</td>\n",
       "      <td>0</td>\n",
       "    </tr>\n",
       "    <tr>\n",
       "      <th>122196</th>\n",
       "      <td>1312532</td>\n",
       "      <td>6963</td>\n",
       "      <td>null</td>\n",
       "      <td>0</td>\n",
       "      <td>null</td>\n",
       "      <td>20160116</td>\n",
       "      <td>-1</td>\n",
       "      <td>1.000000</td>\n",
       "      <td>0</td>\n",
       "      <td>0</td>\n",
       "    </tr>\n",
       "    <tr>\n",
       "      <th>750489</th>\n",
       "      <td>1682746</td>\n",
       "      <td>7555</td>\n",
       "      <td>17</td>\n",
       "      <td>0</td>\n",
       "      <td>20160125</td>\n",
       "      <td>null</td>\n",
       "      <td>1</td>\n",
       "      <td>0.833333</td>\n",
       "      <td>30</td>\n",
       "      <td>5</td>\n",
       "    </tr>\n",
       "  </tbody>\n",
       "</table>\n",
       "</div>"
      ],
      "text/plain": [
       "         User_id  Merchant_id Coupon_id  Distance Date_received      Date  \\\n",
       "454214   6742490         2277      1495         1      20160518      null   \n",
       "237020   1230452         1403     11941         8      20160615      null   \n",
       "105059   2713100         2934      null         1          null  20160228   \n",
       "718815   4933760         2225      null         0          null  20160418   \n",
       "808684   5650856         3621      2705         0      20160520      null   \n",
       "1685593  5516663         4663       818         5      20160124      null   \n",
       "600264   2384766         7354      null         1          null  20160405   \n",
       "506859   7040239         1433      null         0          null  20160530   \n",
       "122196   1312532         6963      null         0          null  20160116   \n",
       "750489   1682746         7555        17         0      20160125      null   \n",
       "\n",
       "         Discount_type  Convert_rate  Discount_target  Discount_reduce  \n",
       "454214               1      0.666667               30               10  \n",
       "237020               1      0.950000               20                1  \n",
       "105059              -1      1.000000                0                0  \n",
       "718815              -1      1.000000                0                0  \n",
       "808684               1      0.750000               20                5  \n",
       "1685593              1      0.866667              150               20  \n",
       "600264              -1      1.000000                0                0  \n",
       "506859              -1      1.000000                0                0  \n",
       "122196              -1      1.000000                0                0  \n",
       "750489               1      0.833333               30                5  "
      ]
     },
     "execution_count": 19,
     "metadata": {},
     "output_type": "execute_result"
    }
   ],
   "source": [
    "df_offline.sample(10)"
   ]
  },
  {
   "cell_type": "markdown",
   "metadata": {},
   "source": [
    "### 领券日期 Date_received"
   ]
  },
  {
   "cell_type": "code",
   "execution_count": 20,
   "metadata": {
    "ExecuteTime": {
     "end_time": "2019-05-05T17:43:36.658902Z",
     "start_time": "2019-05-05T17:43:36.546179Z"
    }
   },
   "outputs": [],
   "source": [
    "date_received = df_offline['Date_received'].unique()\n",
    "date_received = sorted(date_received[date_received != 'null'])"
   ]
  },
  {
   "cell_type": "code",
   "execution_count": 21,
   "metadata": {
    "ExecuteTime": {
     "end_time": "2019-05-05T17:43:36.739858Z",
     "start_time": "2019-05-05T17:43:36.661716Z"
    }
   },
   "outputs": [],
   "source": [
    "date_buy = df_offline['Date'].unique()\n",
    "date_buy = sorted(date_buy[date_buy != 'null'])"
   ]
  },
  {
   "cell_type": "code",
   "execution_count": 22,
   "metadata": {
    "ExecuteTime": {
     "end_time": "2019-05-05T17:43:36.747189Z",
     "start_time": "2019-05-05T17:43:36.742275Z"
    }
   },
   "outputs": [
    {
     "name": "stdout",
     "output_type": "stream",
     "text": [
      "优惠卷收到日期从 20160101 到 20160615\n",
      "消费日期从 20160101 到 20160630\n"
     ]
    }
   ],
   "source": [
    "print('优惠卷收到日期从 {} 到 {}'.format(date_received[0], date_received[-1]))\n",
    "print('消费日期从 {} 到 {}'.format(date_buy[0], date_buy[-1]))"
   ]
  },
  {
   "cell_type": "markdown",
   "metadata": {},
   "source": [
    "关于领劵日期的特征：\n",
    "- weekday : {null, 1, 2, 3, 4, 5, 6, 7}\n",
    "- weekday_type : {1, 0}（周六和周日为1，其他为0）\n",
    "- weekday_1 : {1, 0, 0, 0, 0, 0, 0}\n",
    "- weekday_2 : {0, 1, 0, 0, 0, 0, 0}\n",
    "- weekday_3 : {0, 0, 1, 0, 0, 0, 0}\n",
    "- weekday_4 : {0, 0, 0, 1, 0, 0, 0}\n",
    "- weekday_5 : {0, 0, 0, 0, 1, 0, 0}\n",
    "- weekday_6 : {0, 0, 0, 0, 0, 1, 0}\n",
    "- weekday_7 : {0, 0, 0, 0, 0, 0, 1}"
   ]
  },
  {
   "cell_type": "code",
   "execution_count": 23,
   "metadata": {
    "ExecuteTime": {
     "end_time": "2019-05-05T17:43:36.753462Z",
     "start_time": "2019-05-05T17:43:36.749934Z"
    }
   },
   "outputs": [],
   "source": [
    "from datetime import date"
   ]
  },
  {
   "cell_type": "code",
   "execution_count": 24,
   "metadata": {
    "ExecuteTime": {
     "end_time": "2019-05-05T17:43:36.763653Z",
     "start_time": "2019-05-05T17:43:36.756663Z"
    }
   },
   "outputs": [],
   "source": [
    "def getWeekday(row):\n",
    "    if row == 'null':\n",
    "        return row\n",
    "    else:\n",
    "        return date(int(row[:4]), int(row[4:6]), int(row[6:])).weekday() + 1"
   ]
  },
  {
   "cell_type": "code",
   "execution_count": 25,
   "metadata": {
    "ExecuteTime": {
     "end_time": "2019-05-05T17:43:38.831094Z",
     "start_time": "2019-05-05T17:43:36.767793Z"
    }
   },
   "outputs": [],
   "source": [
    "df_offline['weekday'] = df_offline['Date_received'].astype(str).apply(getWeekday)\n",
    "df_test['weekday'] = df_test['Date_received'].astype(str).apply(getWeekday)"
   ]
  },
  {
   "cell_type": "code",
   "execution_count": 26,
   "metadata": {
    "ExecuteTime": {
     "end_time": "2019-05-05T17:43:39.498618Z",
     "start_time": "2019-05-05T17:43:38.833079Z"
    }
   },
   "outputs": [],
   "source": [
    "df_offline['weekday_type'] = df_offline['weekday'].apply(lambda x: 1 if x in [6,7] else 0)\n",
    "df_test['weekday_type'] = df_test['weekday'].apply(lambda x: 1 if x in [6,7] else 0)"
   ]
  },
  {
   "cell_type": "code",
   "execution_count": 27,
   "metadata": {
    "ExecuteTime": {
     "end_time": "2019-05-05T17:43:40.096969Z",
     "start_time": "2019-05-05T17:43:39.502488Z"
    }
   },
   "outputs": [],
   "source": [
    "# Change weekday to one_hot encoding\n",
    "col_names = ['weekday_' + str(i) for i in range(1,8)]\n",
    "\n",
    "tmp_df = pd.get_dummies(df_offline['weekday'].replace('null', np.nan))\n",
    "tmp_df.columns = col_names\n",
    "df_offline[col_names] = tmp_df\n",
    "\n",
    "tmp_df = pd.get_dummies(df_test['weekday'].replace('null', np.nan))\n",
    "tmp_df.columns = col_names\n",
    "df_test[col_names] = tmp_df"
   ]
  },
  {
   "cell_type": "code",
   "execution_count": 28,
   "metadata": {
    "ExecuteTime": {
     "end_time": "2019-05-05T17:43:40.925767Z",
     "start_time": "2019-05-05T17:43:40.098953Z"
    }
   },
   "outputs": [],
   "source": [
    "df_offline = df_offline.drop(['weekday'], axis=1)\n",
    "df_test = df_test.drop(['weekday'], axis=1)"
   ]
  },
  {
   "cell_type": "code",
   "execution_count": 29,
   "metadata": {
    "ExecuteTime": {
     "end_time": "2019-05-05T17:43:41.037778Z",
     "start_time": "2019-05-05T17:43:40.928256Z"
    }
   },
   "outputs": [
    {
     "data": {
      "text/html": [
       "<div>\n",
       "<style scoped>\n",
       "    .dataframe tbody tr th:only-of-type {\n",
       "        vertical-align: middle;\n",
       "    }\n",
       "\n",
       "    .dataframe tbody tr th {\n",
       "        vertical-align: top;\n",
       "    }\n",
       "\n",
       "    .dataframe thead th {\n",
       "        text-align: right;\n",
       "    }\n",
       "</style>\n",
       "<table border=\"1\" class=\"dataframe\">\n",
       "  <thead>\n",
       "    <tr style=\"text-align: right;\">\n",
       "      <th></th>\n",
       "      <th>User_id</th>\n",
       "      <th>Merchant_id</th>\n",
       "      <th>Coupon_id</th>\n",
       "      <th>Distance</th>\n",
       "      <th>Date_received</th>\n",
       "      <th>Date</th>\n",
       "      <th>Discount_type</th>\n",
       "      <th>Convert_rate</th>\n",
       "      <th>Discount_target</th>\n",
       "      <th>Discount_reduce</th>\n",
       "      <th>weekday_type</th>\n",
       "      <th>weekday_1</th>\n",
       "      <th>weekday_2</th>\n",
       "      <th>weekday_3</th>\n",
       "      <th>weekday_4</th>\n",
       "      <th>weekday_5</th>\n",
       "      <th>weekday_6</th>\n",
       "      <th>weekday_7</th>\n",
       "    </tr>\n",
       "  </thead>\n",
       "  <tbody>\n",
       "    <tr>\n",
       "      <th>281933</th>\n",
       "      <td>5923829</td>\n",
       "      <td>760</td>\n",
       "      <td>null</td>\n",
       "      <td>0</td>\n",
       "      <td>null</td>\n",
       "      <td>20160503</td>\n",
       "      <td>-1</td>\n",
       "      <td>1.000000</td>\n",
       "      <td>0</td>\n",
       "      <td>0</td>\n",
       "      <td>0</td>\n",
       "      <td>0</td>\n",
       "      <td>0</td>\n",
       "      <td>0</td>\n",
       "      <td>0</td>\n",
       "      <td>0</td>\n",
       "      <td>0</td>\n",
       "      <td>0</td>\n",
       "    </tr>\n",
       "    <tr>\n",
       "      <th>1487323</th>\n",
       "      <td>2750729</td>\n",
       "      <td>7418</td>\n",
       "      <td>null</td>\n",
       "      <td>10</td>\n",
       "      <td>null</td>\n",
       "      <td>20160327</td>\n",
       "      <td>-1</td>\n",
       "      <td>1.000000</td>\n",
       "      <td>0</td>\n",
       "      <td>0</td>\n",
       "      <td>0</td>\n",
       "      <td>0</td>\n",
       "      <td>0</td>\n",
       "      <td>0</td>\n",
       "      <td>0</td>\n",
       "      <td>0</td>\n",
       "      <td>0</td>\n",
       "      <td>0</td>\n",
       "    </tr>\n",
       "    <tr>\n",
       "      <th>488169</th>\n",
       "      <td>5566399</td>\n",
       "      <td>7884</td>\n",
       "      <td>11797</td>\n",
       "      <td>0</td>\n",
       "      <td>20160517</td>\n",
       "      <td>null</td>\n",
       "      <td>1</td>\n",
       "      <td>0.950000</td>\n",
       "      <td>20</td>\n",
       "      <td>1</td>\n",
       "      <td>0</td>\n",
       "      <td>0</td>\n",
       "      <td>1</td>\n",
       "      <td>0</td>\n",
       "      <td>0</td>\n",
       "      <td>0</td>\n",
       "      <td>0</td>\n",
       "      <td>0</td>\n",
       "    </tr>\n",
       "    <tr>\n",
       "      <th>1407279</th>\n",
       "      <td>2138344</td>\n",
       "      <td>1433</td>\n",
       "      <td>9476</td>\n",
       "      <td>10</td>\n",
       "      <td>20160125</td>\n",
       "      <td>null</td>\n",
       "      <td>1</td>\n",
       "      <td>0.750000</td>\n",
       "      <td>20</td>\n",
       "      <td>5</td>\n",
       "      <td>0</td>\n",
       "      <td>1</td>\n",
       "      <td>0</td>\n",
       "      <td>0</td>\n",
       "      <td>0</td>\n",
       "      <td>0</td>\n",
       "      <td>0</td>\n",
       "      <td>0</td>\n",
       "    </tr>\n",
       "    <tr>\n",
       "      <th>1671129</th>\n",
       "      <td>5820563</td>\n",
       "      <td>6434</td>\n",
       "      <td>10050</td>\n",
       "      <td>0</td>\n",
       "      <td>20160125</td>\n",
       "      <td>null</td>\n",
       "      <td>1</td>\n",
       "      <td>0.900000</td>\n",
       "      <td>50</td>\n",
       "      <td>5</td>\n",
       "      <td>0</td>\n",
       "      <td>1</td>\n",
       "      <td>0</td>\n",
       "      <td>0</td>\n",
       "      <td>0</td>\n",
       "      <td>0</td>\n",
       "      <td>0</td>\n",
       "      <td>0</td>\n",
       "    </tr>\n",
       "    <tr>\n",
       "      <th>325858</th>\n",
       "      <td>7144022</td>\n",
       "      <td>2622</td>\n",
       "      <td>null</td>\n",
       "      <td>0</td>\n",
       "      <td>null</td>\n",
       "      <td>20160327</td>\n",
       "      <td>-1</td>\n",
       "      <td>1.000000</td>\n",
       "      <td>0</td>\n",
       "      <td>0</td>\n",
       "      <td>0</td>\n",
       "      <td>0</td>\n",
       "      <td>0</td>\n",
       "      <td>0</td>\n",
       "      <td>0</td>\n",
       "      <td>0</td>\n",
       "      <td>0</td>\n",
       "      <td>0</td>\n",
       "    </tr>\n",
       "    <tr>\n",
       "      <th>1207071</th>\n",
       "      <td>2784160</td>\n",
       "      <td>1982</td>\n",
       "      <td>null</td>\n",
       "      <td>0</td>\n",
       "      <td>null</td>\n",
       "      <td>20160203</td>\n",
       "      <td>-1</td>\n",
       "      <td>1.000000</td>\n",
       "      <td>0</td>\n",
       "      <td>0</td>\n",
       "      <td>0</td>\n",
       "      <td>0</td>\n",
       "      <td>0</td>\n",
       "      <td>0</td>\n",
       "      <td>0</td>\n",
       "      <td>0</td>\n",
       "      <td>0</td>\n",
       "      <td>0</td>\n",
       "    </tr>\n",
       "    <tr>\n",
       "      <th>1340237</th>\n",
       "      <td>1563198</td>\n",
       "      <td>1569</td>\n",
       "      <td>5054</td>\n",
       "      <td>-1</td>\n",
       "      <td>20160422</td>\n",
       "      <td>null</td>\n",
       "      <td>1</td>\n",
       "      <td>0.850000</td>\n",
       "      <td>200</td>\n",
       "      <td>30</td>\n",
       "      <td>0</td>\n",
       "      <td>0</td>\n",
       "      <td>0</td>\n",
       "      <td>0</td>\n",
       "      <td>0</td>\n",
       "      <td>1</td>\n",
       "      <td>0</td>\n",
       "      <td>0</td>\n",
       "    </tr>\n",
       "    <tr>\n",
       "      <th>125024</th>\n",
       "      <td>1943063</td>\n",
       "      <td>7717</td>\n",
       "      <td>null</td>\n",
       "      <td>0</td>\n",
       "      <td>null</td>\n",
       "      <td>20160203</td>\n",
       "      <td>-1</td>\n",
       "      <td>1.000000</td>\n",
       "      <td>0</td>\n",
       "      <td>0</td>\n",
       "      <td>0</td>\n",
       "      <td>0</td>\n",
       "      <td>0</td>\n",
       "      <td>0</td>\n",
       "      <td>0</td>\n",
       "      <td>0</td>\n",
       "      <td>0</td>\n",
       "      <td>0</td>\n",
       "    </tr>\n",
       "    <tr>\n",
       "      <th>600384</th>\n",
       "      <td>2538366</td>\n",
       "      <td>8181</td>\n",
       "      <td>4872</td>\n",
       "      <td>0</td>\n",
       "      <td>20160407</td>\n",
       "      <td>null</td>\n",
       "      <td>1</td>\n",
       "      <td>0.833333</td>\n",
       "      <td>30</td>\n",
       "      <td>5</td>\n",
       "      <td>0</td>\n",
       "      <td>0</td>\n",
       "      <td>0</td>\n",
       "      <td>0</td>\n",
       "      <td>1</td>\n",
       "      <td>0</td>\n",
       "      <td>0</td>\n",
       "      <td>0</td>\n",
       "    </tr>\n",
       "  </tbody>\n",
       "</table>\n",
       "</div>"
      ],
      "text/plain": [
       "         User_id  Merchant_id Coupon_id  Distance Date_received      Date  \\\n",
       "281933   5923829          760      null         0          null  20160503   \n",
       "1487323  2750729         7418      null        10          null  20160327   \n",
       "488169   5566399         7884     11797         0      20160517      null   \n",
       "1407279  2138344         1433      9476        10      20160125      null   \n",
       "1671129  5820563         6434     10050         0      20160125      null   \n",
       "325858   7144022         2622      null         0          null  20160327   \n",
       "1207071  2784160         1982      null         0          null  20160203   \n",
       "1340237  1563198         1569      5054        -1      20160422      null   \n",
       "125024   1943063         7717      null         0          null  20160203   \n",
       "600384   2538366         8181      4872         0      20160407      null   \n",
       "\n",
       "         Discount_type  Convert_rate  Discount_target  Discount_reduce  \\\n",
       "281933              -1      1.000000                0                0   \n",
       "1487323             -1      1.000000                0                0   \n",
       "488169               1      0.950000               20                1   \n",
       "1407279              1      0.750000               20                5   \n",
       "1671129              1      0.900000               50                5   \n",
       "325858              -1      1.000000                0                0   \n",
       "1207071             -1      1.000000                0                0   \n",
       "1340237              1      0.850000              200               30   \n",
       "125024              -1      1.000000                0                0   \n",
       "600384               1      0.833333               30                5   \n",
       "\n",
       "         weekday_type  weekday_1  weekday_2  weekday_3  weekday_4  weekday_5  \\\n",
       "281933              0          0          0          0          0          0   \n",
       "1487323             0          0          0          0          0          0   \n",
       "488169              0          0          1          0          0          0   \n",
       "1407279             0          1          0          0          0          0   \n",
       "1671129             0          1          0          0          0          0   \n",
       "325858              0          0          0          0          0          0   \n",
       "1207071             0          0          0          0          0          0   \n",
       "1340237             0          0          0          0          0          1   \n",
       "125024              0          0          0          0          0          0   \n",
       "600384              0          0          0          0          1          0   \n",
       "\n",
       "         weekday_6  weekday_7  \n",
       "281933           0          0  \n",
       "1487323          0          0  \n",
       "488169           0          0  \n",
       "1407279          0          0  \n",
       "1671129          0          0  \n",
       "325858           0          0  \n",
       "1207071          0          0  \n",
       "1340237          0          0  \n",
       "125024           0          0  \n",
       "600384           0          0  "
      ]
     },
     "execution_count": 29,
     "metadata": {},
     "output_type": "execute_result"
    }
   ],
   "source": [
    "df_offline.sample(10)"
   ]
  },
  {
   "cell_type": "markdown",
   "metadata": {},
   "source": [
    "所有特征：\n",
    "- Convert_rate\n",
    "- Discount_type\n",
    "- Discount_target\n",
    "- Discount_reduce\n",
    "- Distance\n",
    "- weekday_type\n",
    "- weekday_1\n",
    "- weekday_2\n",
    "- weekday_3\n",
    "- weekday_4\n",
    "- weekday_5\n",
    "- weekday_6\n",
    "- weekday_7"
   ]
  },
  {
   "cell_type": "markdown",
   "metadata": {},
   "source": [
    "## 标签标注"
   ]
  },
  {
   "cell_type": "markdown",
   "metadata": {},
   "source": [
    "三种情况：\n",
    "\n",
    "- Date_received == 'null'：表示没有领到优惠券，无需考虑，y = -1\n",
    "\n",
    "- (Date_received != 'null') & (Date != 'null') & (Date - Date_received <= 15)：表示领取优惠券且在15天内使用，即正样本，y = 1\n",
    "\n",
    "- (Date_received != 'null') & ((Date == 'null') | (Date - Date_received > 15))：表示领取优惠券未在在15天内使用，即负样本，y = 0"
   ]
  },
  {
   "cell_type": "markdown",
   "metadata": {},
   "source": [
    "定义标签备注函数："
   ]
  },
  {
   "cell_type": "code",
   "execution_count": 30,
   "metadata": {
    "ExecuteTime": {
     "end_time": "2019-05-05T17:43:41.072607Z",
     "start_time": "2019-05-05T17:43:41.058891Z"
    }
   },
   "outputs": [],
   "source": [
    "def label(row):\n",
    "    if row['Date_received'] == 'null':\n",
    "        return int(-1)\n",
    "    if row['Date'] != 'null':\n",
    "        td = pd.to_datetime(row['Date'], format='%Y%m%d') - pd.to_datetime(row['Date_received'], format='%Y%m%d')\n",
    "        if td <= pd.Timedelta(15, 'D'):\n",
    "            return int(1)\n",
    "    return int(0)"
   ]
  },
  {
   "cell_type": "code",
   "execution_count": 31,
   "metadata": {
    "ExecuteTime": {
     "end_time": "2019-05-05T17:45:13.170027Z",
     "start_time": "2019-05-05T17:43:41.075364Z"
    }
   },
   "outputs": [],
   "source": [
    "df_offline['label'] = df_offline.apply(label, axis=1)"
   ]
  },
  {
   "cell_type": "code",
   "execution_count": 32,
   "metadata": {
    "ExecuteTime": {
     "end_time": "2019-05-05T17:45:13.255635Z",
     "start_time": "2019-05-05T17:45:13.172353Z"
    }
   },
   "outputs": [
    {
     "name": "stdout",
     "output_type": "stream",
     "text": [
      " 0    988887\n",
      "-1    701602\n",
      " 1     64395\n",
      "Name: label, dtype: int64\n"
     ]
    }
   ],
   "source": [
    "print(df_offline['label'].value_counts())"
   ]
  },
  {
   "cell_type": "code",
   "execution_count": 33,
   "metadata": {
    "ExecuteTime": {
     "end_time": "2019-05-05T17:45:13.853637Z",
     "start_time": "2019-05-05T17:45:13.262242Z"
    }
   },
   "outputs": [
    {
     "data": {
      "text/html": [
       "<div>\n",
       "<style scoped>\n",
       "    .dataframe tbody tr th:only-of-type {\n",
       "        vertical-align: middle;\n",
       "    }\n",
       "\n",
       "    .dataframe tbody tr th {\n",
       "        vertical-align: top;\n",
       "    }\n",
       "\n",
       "    .dataframe thead th {\n",
       "        text-align: right;\n",
       "    }\n",
       "</style>\n",
       "<table border=\"1\" class=\"dataframe\">\n",
       "  <thead>\n",
       "    <tr style=\"text-align: right;\">\n",
       "      <th></th>\n",
       "      <th>User_id</th>\n",
       "      <th>Merchant_id</th>\n",
       "      <th>Coupon_id</th>\n",
       "      <th>Distance</th>\n",
       "      <th>Date_received</th>\n",
       "      <th>Date</th>\n",
       "      <th>Discount_type</th>\n",
       "      <th>Convert_rate</th>\n",
       "      <th>Discount_target</th>\n",
       "      <th>Discount_reduce</th>\n",
       "      <th>weekday_type</th>\n",
       "      <th>weekday_1</th>\n",
       "      <th>weekday_2</th>\n",
       "      <th>weekday_3</th>\n",
       "      <th>weekday_4</th>\n",
       "      <th>weekday_5</th>\n",
       "      <th>weekday_6</th>\n",
       "      <th>weekday_7</th>\n",
       "      <th>label</th>\n",
       "    </tr>\n",
       "  </thead>\n",
       "  <tbody>\n",
       "    <tr>\n",
       "      <th>513585</th>\n",
       "      <td>7236955</td>\n",
       "      <td>3447</td>\n",
       "      <td>6922</td>\n",
       "      <td>0</td>\n",
       "      <td>20160529</td>\n",
       "      <td>null</td>\n",
       "      <td>1</td>\n",
       "      <td>0.80</td>\n",
       "      <td>50</td>\n",
       "      <td>10</td>\n",
       "      <td>1</td>\n",
       "      <td>0</td>\n",
       "      <td>0</td>\n",
       "      <td>0</td>\n",
       "      <td>0</td>\n",
       "      <td>0</td>\n",
       "      <td>0</td>\n",
       "      <td>1</td>\n",
       "      <td>0</td>\n",
       "    </tr>\n",
       "    <tr>\n",
       "      <th>1508554</th>\n",
       "      <td>3830609</td>\n",
       "      <td>1569</td>\n",
       "      <td>5054</td>\n",
       "      <td>5</td>\n",
       "      <td>20160424</td>\n",
       "      <td>null</td>\n",
       "      <td>1</td>\n",
       "      <td>0.85</td>\n",
       "      <td>200</td>\n",
       "      <td>30</td>\n",
       "      <td>1</td>\n",
       "      <td>0</td>\n",
       "      <td>0</td>\n",
       "      <td>0</td>\n",
       "      <td>0</td>\n",
       "      <td>0</td>\n",
       "      <td>0</td>\n",
       "      <td>1</td>\n",
       "      <td>0</td>\n",
       "    </tr>\n",
       "    <tr>\n",
       "      <th>1647874</th>\n",
       "      <td>4840211</td>\n",
       "      <td>3575</td>\n",
       "      <td>null</td>\n",
       "      <td>0</td>\n",
       "      <td>null</td>\n",
       "      <td>20160415</td>\n",
       "      <td>-1</td>\n",
       "      <td>1.00</td>\n",
       "      <td>0</td>\n",
       "      <td>0</td>\n",
       "      <td>0</td>\n",
       "      <td>0</td>\n",
       "      <td>0</td>\n",
       "      <td>0</td>\n",
       "      <td>0</td>\n",
       "      <td>0</td>\n",
       "      <td>0</td>\n",
       "      <td>0</td>\n",
       "      <td>-1</td>\n",
       "    </tr>\n",
       "    <tr>\n",
       "      <th>1087009</th>\n",
       "      <td>5626035</td>\n",
       "      <td>6937</td>\n",
       "      <td>null</td>\n",
       "      <td>1</td>\n",
       "      <td>null</td>\n",
       "      <td>20160516</td>\n",
       "      <td>-1</td>\n",
       "      <td>1.00</td>\n",
       "      <td>0</td>\n",
       "      <td>0</td>\n",
       "      <td>0</td>\n",
       "      <td>0</td>\n",
       "      <td>0</td>\n",
       "      <td>0</td>\n",
       "      <td>0</td>\n",
       "      <td>0</td>\n",
       "      <td>0</td>\n",
       "      <td>0</td>\n",
       "      <td>-1</td>\n",
       "    </tr>\n",
       "    <tr>\n",
       "      <th>291595</th>\n",
       "      <td>4358297</td>\n",
       "      <td>6021</td>\n",
       "      <td>9588</td>\n",
       "      <td>0</td>\n",
       "      <td>20160304</td>\n",
       "      <td>null</td>\n",
       "      <td>1</td>\n",
       "      <td>0.95</td>\n",
       "      <td>20</td>\n",
       "      <td>1</td>\n",
       "      <td>0</td>\n",
       "      <td>0</td>\n",
       "      <td>0</td>\n",
       "      <td>0</td>\n",
       "      <td>0</td>\n",
       "      <td>1</td>\n",
       "      <td>0</td>\n",
       "      <td>0</td>\n",
       "      <td>0</td>\n",
       "    </tr>\n",
       "    <tr>\n",
       "      <th>645741</th>\n",
       "      <td>1448932</td>\n",
       "      <td>1715</td>\n",
       "      <td>null</td>\n",
       "      <td>3</td>\n",
       "      <td>null</td>\n",
       "      <td>20160326</td>\n",
       "      <td>-1</td>\n",
       "      <td>1.00</td>\n",
       "      <td>0</td>\n",
       "      <td>0</td>\n",
       "      <td>0</td>\n",
       "      <td>0</td>\n",
       "      <td>0</td>\n",
       "      <td>0</td>\n",
       "      <td>0</td>\n",
       "      <td>0</td>\n",
       "      <td>0</td>\n",
       "      <td>0</td>\n",
       "      <td>-1</td>\n",
       "    </tr>\n",
       "    <tr>\n",
       "      <th>1410733</th>\n",
       "      <td>3357424</td>\n",
       "      <td>3284</td>\n",
       "      <td>8643</td>\n",
       "      <td>0</td>\n",
       "      <td>20160323</td>\n",
       "      <td>20160326</td>\n",
       "      <td>1</td>\n",
       "      <td>0.75</td>\n",
       "      <td>20</td>\n",
       "      <td>5</td>\n",
       "      <td>0</td>\n",
       "      <td>0</td>\n",
       "      <td>0</td>\n",
       "      <td>1</td>\n",
       "      <td>0</td>\n",
       "      <td>0</td>\n",
       "      <td>0</td>\n",
       "      <td>0</td>\n",
       "      <td>1</td>\n",
       "    </tr>\n",
       "    <tr>\n",
       "      <th>1689512</th>\n",
       "      <td>6320567</td>\n",
       "      <td>760</td>\n",
       "      <td>null</td>\n",
       "      <td>0</td>\n",
       "      <td>null</td>\n",
       "      <td>20160528</td>\n",
       "      <td>-1</td>\n",
       "      <td>1.00</td>\n",
       "      <td>0</td>\n",
       "      <td>0</td>\n",
       "      <td>0</td>\n",
       "      <td>0</td>\n",
       "      <td>0</td>\n",
       "      <td>0</td>\n",
       "      <td>0</td>\n",
       "      <td>0</td>\n",
       "      <td>0</td>\n",
       "      <td>0</td>\n",
       "      <td>-1</td>\n",
       "    </tr>\n",
       "    <tr>\n",
       "      <th>722280</th>\n",
       "      <td>855697</td>\n",
       "      <td>3033</td>\n",
       "      <td>null</td>\n",
       "      <td>1</td>\n",
       "      <td>null</td>\n",
       "      <td>20160531</td>\n",
       "      <td>-1</td>\n",
       "      <td>1.00</td>\n",
       "      <td>0</td>\n",
       "      <td>0</td>\n",
       "      <td>0</td>\n",
       "      <td>0</td>\n",
       "      <td>0</td>\n",
       "      <td>0</td>\n",
       "      <td>0</td>\n",
       "      <td>0</td>\n",
       "      <td>0</td>\n",
       "      <td>0</td>\n",
       "      <td>-1</td>\n",
       "    </tr>\n",
       "    <tr>\n",
       "      <th>1254535</th>\n",
       "      <td>1693176</td>\n",
       "      <td>2709</td>\n",
       "      <td>12207</td>\n",
       "      <td>5</td>\n",
       "      <td>20160204</td>\n",
       "      <td>null</td>\n",
       "      <td>1</td>\n",
       "      <td>0.90</td>\n",
       "      <td>200</td>\n",
       "      <td>20</td>\n",
       "      <td>0</td>\n",
       "      <td>0</td>\n",
       "      <td>0</td>\n",
       "      <td>0</td>\n",
       "      <td>1</td>\n",
       "      <td>0</td>\n",
       "      <td>0</td>\n",
       "      <td>0</td>\n",
       "      <td>0</td>\n",
       "    </tr>\n",
       "  </tbody>\n",
       "</table>\n",
       "</div>"
      ],
      "text/plain": [
       "         User_id  Merchant_id Coupon_id  Distance Date_received      Date  \\\n",
       "513585   7236955         3447      6922         0      20160529      null   \n",
       "1508554  3830609         1569      5054         5      20160424      null   \n",
       "1647874  4840211         3575      null         0          null  20160415   \n",
       "1087009  5626035         6937      null         1          null  20160516   \n",
       "291595   4358297         6021      9588         0      20160304      null   \n",
       "645741   1448932         1715      null         3          null  20160326   \n",
       "1410733  3357424         3284      8643         0      20160323  20160326   \n",
       "1689512  6320567          760      null         0          null  20160528   \n",
       "722280    855697         3033      null         1          null  20160531   \n",
       "1254535  1693176         2709     12207         5      20160204      null   \n",
       "\n",
       "         Discount_type  Convert_rate  Discount_target  Discount_reduce  \\\n",
       "513585               1          0.80               50               10   \n",
       "1508554              1          0.85              200               30   \n",
       "1647874             -1          1.00                0                0   \n",
       "1087009             -1          1.00                0                0   \n",
       "291595               1          0.95               20                1   \n",
       "645741              -1          1.00                0                0   \n",
       "1410733              1          0.75               20                5   \n",
       "1689512             -1          1.00                0                0   \n",
       "722280              -1          1.00                0                0   \n",
       "1254535              1          0.90              200               20   \n",
       "\n",
       "         weekday_type  weekday_1  weekday_2  weekday_3  weekday_4  weekday_5  \\\n",
       "513585              1          0          0          0          0          0   \n",
       "1508554             1          0          0          0          0          0   \n",
       "1647874             0          0          0          0          0          0   \n",
       "1087009             0          0          0          0          0          0   \n",
       "291595              0          0          0          0          0          1   \n",
       "645741              0          0          0          0          0          0   \n",
       "1410733             0          0          0          1          0          0   \n",
       "1689512             0          0          0          0          0          0   \n",
       "722280              0          0          0          0          0          0   \n",
       "1254535             0          0          0          0          1          0   \n",
       "\n",
       "         weekday_6  weekday_7  label  \n",
       "513585           0          1      0  \n",
       "1508554          0          1      0  \n",
       "1647874          0          0     -1  \n",
       "1087009          0          0     -1  \n",
       "291595           0          0      0  \n",
       "645741           0          0     -1  \n",
       "1410733          0          0      1  \n",
       "1689512          0          0     -1  \n",
       "722280           0          0     -1  \n",
       "1254535          0          0      0  "
      ]
     },
     "execution_count": 33,
     "metadata": {},
     "output_type": "execute_result"
    }
   ],
   "source": [
    "df_offline.sample(10)"
   ]
  },
  {
   "cell_type": "markdown",
   "metadata": {},
   "source": [
    "## 建立线性模型 SGDClassifier"
   ]
  },
  {
   "cell_type": "markdown",
   "metadata": {},
   "source": [
    "- 使用上面提取的14个特征。\n",
    "\n",
    "- 训练集：20160101-20160515；验证集：20160516-20160615。\n",
    "\n",
    "- 用线性模型 SGDClassifier"
   ]
  },
  {
   "cell_type": "markdown",
   "metadata": {},
   "source": [
    "### 划分训练集/验证集"
   ]
  },
  {
   "cell_type": "code",
   "execution_count": 34,
   "metadata": {
    "ExecuteTime": {
     "end_time": "2019-05-05T17:45:15.107372Z",
     "start_time": "2019-05-05T17:45:13.856950Z"
    }
   },
   "outputs": [],
   "source": [
    "df = df_offline[df_offline['label'] != -1].copy()\n",
    "train = df[(df['Date_received'] < '20160516')].copy()\n",
    "test = df[(df['Date_received'] >= '20160516') & (df['Date_received'] <= '20160615')].copy()"
   ]
  },
  {
   "cell_type": "code",
   "execution_count": 35,
   "metadata": {
    "ExecuteTime": {
     "end_time": "2019-05-05T17:45:15.193417Z",
     "start_time": "2019-05-05T17:45:15.114857Z"
    }
   },
   "outputs": [
    {
     "data": {
      "text/plain": [
       "0    759172\n",
       "1     41524\n",
       "Name: label, dtype: int64"
      ]
     },
     "execution_count": 35,
     "metadata": {},
     "output_type": "execute_result"
    }
   ],
   "source": [
    "train['label'].value_counts()"
   ]
  },
  {
   "cell_type": "code",
   "execution_count": 36,
   "metadata": {
    "ExecuteTime": {
     "end_time": "2019-05-05T17:45:15.234087Z",
     "start_time": "2019-05-05T17:45:15.213129Z"
    }
   },
   "outputs": [
    {
     "data": {
      "text/plain": [
       "0    229715\n",
       "1     22871\n",
       "Name: label, dtype: int64"
      ]
     },
     "execution_count": 36,
     "metadata": {},
     "output_type": "execute_result"
    }
   ],
   "source": [
    "test['label'].value_counts()"
   ]
  },
  {
   "cell_type": "markdown",
   "metadata": {},
   "source": [
    "### 特征数量"
   ]
  },
  {
   "cell_type": "code",
   "execution_count": 37,
   "metadata": {
    "ExecuteTime": {
     "end_time": "2019-05-05T17:45:15.248135Z",
     "start_time": "2019-05-05T17:45:15.237406Z"
    }
   },
   "outputs": [
    {
     "name": "stdout",
     "output_type": "stream",
     "text": [
      "共有13个特征\n"
     ]
    }
   ],
   "source": [
    "factors = ['Convert_rate', 'Discount_type', 'Discount_target', 'Discount_reduce', 'Distance', 'weekday_type',\n",
    "          'weekday_1', 'weekday_2', 'weekday_3', 'weekday_4', 'weekday_5', 'weekday_6', 'weekday_7']\n",
    "print('共有{}个特征'.format(len(factors)))"
   ]
  },
  {
   "cell_type": "markdown",
   "metadata": {},
   "source": [
    "### 归一化"
   ]
  },
  {
   "cell_type": "code",
   "execution_count": 38,
   "metadata": {
    "ExecuteTime": {
     "end_time": "2019-05-05T17:45:16.678304Z",
     "start_time": "2019-05-05T17:45:15.251748Z"
    }
   },
   "outputs": [],
   "source": [
    "from sklearn.preprocessing import MinMaxScaler"
   ]
  },
  {
   "cell_type": "code",
   "execution_count": 39,
   "metadata": {
    "ExecuteTime": {
     "end_time": "2019-05-05T17:45:20.304750Z",
     "start_time": "2019-05-05T17:45:16.681202Z"
    }
   },
   "outputs": [],
   "source": [
    "scaler = MinMaxScaler()\n",
    "\n",
    "train[factors] = scaler.fit_transform(train[factors])\n",
    "test[factors] = scaler.fit_transform(test[factors])"
   ]
  },
  {
   "cell_type": "markdown",
   "metadata": {},
   "source": [
    "### 建立模型"
   ]
  },
  {
   "cell_type": "code",
   "execution_count": 40,
   "metadata": {
    "ExecuteTime": {
     "end_time": "2019-05-05T17:45:20.560678Z",
     "start_time": "2019-05-05T17:45:20.308721Z"
    }
   },
   "outputs": [],
   "source": [
    "from sklearn.model_selection import KFold, train_test_split, StratifiedKFold, cross_val_score, GridSearchCV\n",
    "from sklearn.pipeline import Pipeline\n",
    "from sklearn.linear_model import SGDClassifier, LogisticRegression\n",
    "from sklearn.preprocessing import StandardScaler\n",
    "from sklearn.metrics import log_loss, roc_auc_score, auc, roc_curve"
   ]
  },
  {
   "cell_type": "code",
   "execution_count": 41,
   "metadata": {
    "ExecuteTime": {
     "end_time": "2019-05-05T17:45:20.657889Z",
     "start_time": "2019-05-05T17:45:20.562157Z"
    }
   },
   "outputs": [],
   "source": [
    "def check_model(data, factors):\n",
    "    \n",
    "    classifier = lambda: SGDClassifier(\n",
    "        loss='log',  # loss function: logistic regression\n",
    "        penalty='elasticnet', # L1 & L2\n",
    "        fit_intercept=True,  # 是否存在截距，默认存在\n",
    "        # max_iter=100, \n",
    "        shuffle=True,  # Whether or not the training data should be shuffled after each epoch\n",
    "        n_jobs=-1, # The number of processors to use\n",
    "        class_weight=None) # Weights associated with classes. If not given, all classes are supposed to have weight one.\n",
    " \n",
    "    # 管道机制使得参数集在新数据集（比如测试集）上的重复使用，管道机制实现了对全部步骤的流式化封装和管理。\n",
    "    model = Pipeline(steps=[\n",
    "        ('ss', StandardScaler()), # transformer\n",
    "        ('en', classifier())  # estimator\n",
    "    ])\n",
    " \n",
    "    parameters = {\n",
    "        'en__alpha': [ 0.001, 0.01, 0.1],\n",
    "        'en__l1_ratio': [ 0.001, 0.01, 0.1]\n",
    "    }\n",
    " \n",
    "    # StratifiedKFold用法类似Kfold，但是他是分层采样，确保训练集，测试集中各类别样本的比例与原始数据集中相同。\n",
    "    folder = StratifiedKFold(n_splits=5, shuffle=True)\n",
    "    \n",
    "    # Exhaustive search over specified parameter values for an estimator.\n",
    "    grid_search = GridSearchCV(\n",
    "        model, \n",
    "        parameters, \n",
    "        cv=folder, \n",
    "        n_jobs=-1,  # -1 means using all processors\n",
    "        verbose=1)\n",
    "    \n",
    "    grid_search = grid_search.fit(data[factors], \n",
    "                                  data['label'])\n",
    "    \n",
    "    return grid_search"
   ]
  },
  {
   "cell_type": "markdown",
   "metadata": {},
   "source": [
    "### 训练"
   ]
  },
  {
   "cell_type": "code",
   "execution_count": 42,
   "metadata": {
    "ExecuteTime": {
     "end_time": "2019-05-05T17:46:26.903226Z",
     "start_time": "2019-05-05T17:45:20.662340Z"
    }
   },
   "outputs": [
    {
     "name": "stdout",
     "output_type": "stream",
     "text": [
      "Fitting 5 folds for each of 9 candidates, totalling 45 fits\n"
     ]
    },
    {
     "name": "stderr",
     "output_type": "stream",
     "text": [
      "[Parallel(n_jobs=-1)]: Using backend LokyBackend with 4 concurrent workers.\n",
      "[Parallel(n_jobs=-1)]: Done  45 out of  45 | elapsed:  1.0min finished\n"
     ]
    }
   ],
   "source": [
    "model = check_model(train, factors)"
   ]
  },
  {
   "cell_type": "markdown",
   "metadata": {},
   "source": [
    "### 验证"
   ]
  },
  {
   "cell_type": "markdown",
   "metadata": {},
   "source": [
    "对验证集中每个优惠券预测的结果计算 AUC，再对所有优惠券的 AUC 求平均。计算 AUC 的时候，如果 label 只有一类，就直接跳过，因为 AUC 无法计算。"
   ]
  },
  {
   "cell_type": "code",
   "execution_count": 43,
   "metadata": {
    "ExecuteTime": {
     "end_time": "2019-05-05T17:46:27.203806Z",
     "start_time": "2019-05-05T17:46:26.913623Z"
    }
   },
   "outputs": [],
   "source": [
    "y_pred = model.predict_proba(test[factors])"
   ]
  },
  {
   "cell_type": "code",
   "execution_count": 44,
   "metadata": {
    "ExecuteTime": {
     "end_time": "2019-05-05T17:46:27.342911Z",
     "start_time": "2019-05-05T17:46:27.219626Z"
    }
   },
   "outputs": [],
   "source": [
    "test_tmp = test.copy()\n",
    "test_tmp['pred_prob'] = y_pred[:, 1]"
   ]
  },
  {
   "cell_type": "code",
   "execution_count": 45,
   "metadata": {
    "ExecuteTime": {
     "end_time": "2019-05-05T17:46:27.499199Z",
     "start_time": "2019-05-05T17:46:27.348145Z"
    }
   },
   "outputs": [
    {
     "data": {
      "text/html": [
       "<div>\n",
       "<style scoped>\n",
       "    .dataframe tbody tr th:only-of-type {\n",
       "        vertical-align: middle;\n",
       "    }\n",
       "\n",
       "    .dataframe tbody tr th {\n",
       "        vertical-align: top;\n",
       "    }\n",
       "\n",
       "    .dataframe thead th {\n",
       "        text-align: right;\n",
       "    }\n",
       "</style>\n",
       "<table border=\"1\" class=\"dataframe\">\n",
       "  <thead>\n",
       "    <tr style=\"text-align: right;\">\n",
       "      <th></th>\n",
       "      <th>User_id</th>\n",
       "      <th>Merchant_id</th>\n",
       "      <th>Coupon_id</th>\n",
       "      <th>Distance</th>\n",
       "      <th>Date_received</th>\n",
       "      <th>Date</th>\n",
       "      <th>Discount_type</th>\n",
       "      <th>Convert_rate</th>\n",
       "      <th>Discount_target</th>\n",
       "      <th>Discount_reduce</th>\n",
       "      <th>weekday_type</th>\n",
       "      <th>weekday_1</th>\n",
       "      <th>weekday_2</th>\n",
       "      <th>weekday_3</th>\n",
       "      <th>weekday_4</th>\n",
       "      <th>weekday_5</th>\n",
       "      <th>weekday_6</th>\n",
       "      <th>weekday_7</th>\n",
       "      <th>label</th>\n",
       "      <th>pred_prob</th>\n",
       "    </tr>\n",
       "  </thead>\n",
       "  <tbody>\n",
       "    <tr>\n",
       "      <th>743115</th>\n",
       "      <td>1410868</td>\n",
       "      <td>4663</td>\n",
       "      <td>11002</td>\n",
       "      <td>0.000000</td>\n",
       "      <td>20160528</td>\n",
       "      <td>null</td>\n",
       "      <td>1.0</td>\n",
       "      <td>0.812183</td>\n",
       "      <td>0.500000</td>\n",
       "      <td>0.20</td>\n",
       "      <td>1.0</td>\n",
       "      <td>0.0</td>\n",
       "      <td>0.0</td>\n",
       "      <td>0.0</td>\n",
       "      <td>0.0</td>\n",
       "      <td>0.0</td>\n",
       "      <td>1.0</td>\n",
       "      <td>0.0</td>\n",
       "      <td>0</td>\n",
       "      <td>0.031212</td>\n",
       "    </tr>\n",
       "    <tr>\n",
       "      <th>392585</th>\n",
       "      <td>6479918</td>\n",
       "      <td>450</td>\n",
       "      <td>1532</td>\n",
       "      <td>0.181818</td>\n",
       "      <td>20160523</td>\n",
       "      <td>null</td>\n",
       "      <td>1.0</td>\n",
       "      <td>0.761421</td>\n",
       "      <td>0.100000</td>\n",
       "      <td>0.05</td>\n",
       "      <td>0.0</td>\n",
       "      <td>1.0</td>\n",
       "      <td>0.0</td>\n",
       "      <td>0.0</td>\n",
       "      <td>0.0</td>\n",
       "      <td>0.0</td>\n",
       "      <td>0.0</td>\n",
       "      <td>0.0</td>\n",
       "      <td>0</td>\n",
       "      <td>0.079940</td>\n",
       "    </tr>\n",
       "    <tr>\n",
       "      <th>864608</th>\n",
       "      <td>4662241</td>\n",
       "      <td>760</td>\n",
       "      <td>2418</td>\n",
       "      <td>0.181818</td>\n",
       "      <td>20160603</td>\n",
       "      <td>null</td>\n",
       "      <td>1.0</td>\n",
       "      <td>0.761421</td>\n",
       "      <td>0.100000</td>\n",
       "      <td>0.05</td>\n",
       "      <td>0.0</td>\n",
       "      <td>0.0</td>\n",
       "      <td>0.0</td>\n",
       "      <td>0.0</td>\n",
       "      <td>0.0</td>\n",
       "      <td>1.0</td>\n",
       "      <td>0.0</td>\n",
       "      <td>0.0</td>\n",
       "      <td>0</td>\n",
       "      <td>0.086461</td>\n",
       "    </tr>\n",
       "    <tr>\n",
       "      <th>1514879</th>\n",
       "      <td>2353001</td>\n",
       "      <td>1469</td>\n",
       "      <td>11848</td>\n",
       "      <td>0.272727</td>\n",
       "      <td>20160612</td>\n",
       "      <td>null</td>\n",
       "      <td>1.0</td>\n",
       "      <td>0.710660</td>\n",
       "      <td>0.333333</td>\n",
       "      <td>0.20</td>\n",
       "      <td>1.0</td>\n",
       "      <td>0.0</td>\n",
       "      <td>0.0</td>\n",
       "      <td>0.0</td>\n",
       "      <td>0.0</td>\n",
       "      <td>0.0</td>\n",
       "      <td>0.0</td>\n",
       "      <td>1.0</td>\n",
       "      <td>0</td>\n",
       "      <td>0.022161</td>\n",
       "    </tr>\n",
       "    <tr>\n",
       "      <th>1262278</th>\n",
       "      <td>996095</td>\n",
       "      <td>1798</td>\n",
       "      <td>6889</td>\n",
       "      <td>0.000000</td>\n",
       "      <td>20160525</td>\n",
       "      <td>20160603</td>\n",
       "      <td>1.0</td>\n",
       "      <td>0.634518</td>\n",
       "      <td>0.066667</td>\n",
       "      <td>0.05</td>\n",
       "      <td>0.0</td>\n",
       "      <td>0.0</td>\n",
       "      <td>0.0</td>\n",
       "      <td>1.0</td>\n",
       "      <td>0.0</td>\n",
       "      <td>0.0</td>\n",
       "      <td>0.0</td>\n",
       "      <td>0.0</td>\n",
       "      <td>1</td>\n",
       "      <td>0.191463</td>\n",
       "    </tr>\n",
       "    <tr>\n",
       "      <th>149013</th>\n",
       "      <td>6020268</td>\n",
       "      <td>4043</td>\n",
       "      <td>3222</td>\n",
       "      <td>0.454545</td>\n",
       "      <td>20160518</td>\n",
       "      <td>null</td>\n",
       "      <td>1.0</td>\n",
       "      <td>0.761421</td>\n",
       "      <td>0.100000</td>\n",
       "      <td>0.05</td>\n",
       "      <td>0.0</td>\n",
       "      <td>0.0</td>\n",
       "      <td>0.0</td>\n",
       "      <td>1.0</td>\n",
       "      <td>0.0</td>\n",
       "      <td>0.0</td>\n",
       "      <td>0.0</td>\n",
       "      <td>0.0</td>\n",
       "      <td>0</td>\n",
       "      <td>0.056232</td>\n",
       "    </tr>\n",
       "    <tr>\n",
       "      <th>403656</th>\n",
       "      <td>2802747</td>\n",
       "      <td>5717</td>\n",
       "      <td>8192</td>\n",
       "      <td>0.181818</td>\n",
       "      <td>20160527</td>\n",
       "      <td>null</td>\n",
       "      <td>1.0</td>\n",
       "      <td>0.634518</td>\n",
       "      <td>0.066667</td>\n",
       "      <td>0.05</td>\n",
       "      <td>0.0</td>\n",
       "      <td>0.0</td>\n",
       "      <td>0.0</td>\n",
       "      <td>0.0</td>\n",
       "      <td>0.0</td>\n",
       "      <td>1.0</td>\n",
       "      <td>0.0</td>\n",
       "      <td>0.0</td>\n",
       "      <td>0</td>\n",
       "      <td>0.108012</td>\n",
       "    </tr>\n",
       "    <tr>\n",
       "      <th>229150</th>\n",
       "      <td>1842797</td>\n",
       "      <td>1469</td>\n",
       "      <td>2601</td>\n",
       "      <td>0.090909</td>\n",
       "      <td>20160607</td>\n",
       "      <td>null</td>\n",
       "      <td>1.0</td>\n",
       "      <td>0.710660</td>\n",
       "      <td>0.333333</td>\n",
       "      <td>0.20</td>\n",
       "      <td>0.0</td>\n",
       "      <td>0.0</td>\n",
       "      <td>1.0</td>\n",
       "      <td>0.0</td>\n",
       "      <td>0.0</td>\n",
       "      <td>0.0</td>\n",
       "      <td>0.0</td>\n",
       "      <td>0.0</td>\n",
       "      <td>0</td>\n",
       "      <td>0.047665</td>\n",
       "    </tr>\n",
       "    <tr>\n",
       "      <th>1594279</th>\n",
       "      <td>6526206</td>\n",
       "      <td>4663</td>\n",
       "      <td>13304</td>\n",
       "      <td>0.090909</td>\n",
       "      <td>20160530</td>\n",
       "      <td>null</td>\n",
       "      <td>1.0</td>\n",
       "      <td>0.812183</td>\n",
       "      <td>0.500000</td>\n",
       "      <td>0.20</td>\n",
       "      <td>0.0</td>\n",
       "      <td>1.0</td>\n",
       "      <td>0.0</td>\n",
       "      <td>0.0</td>\n",
       "      <td>0.0</td>\n",
       "      <td>0.0</td>\n",
       "      <td>0.0</td>\n",
       "      <td>0.0</td>\n",
       "      <td>0</td>\n",
       "      <td>0.020496</td>\n",
       "    </tr>\n",
       "    <tr>\n",
       "      <th>1439267</th>\n",
       "      <td>6146853</td>\n",
       "      <td>6485</td>\n",
       "      <td>2079</td>\n",
       "      <td>0.090909</td>\n",
       "      <td>20160522</td>\n",
       "      <td>null</td>\n",
       "      <td>1.0</td>\n",
       "      <td>0.761421</td>\n",
       "      <td>0.100000</td>\n",
       "      <td>0.05</td>\n",
       "      <td>1.0</td>\n",
       "      <td>0.0</td>\n",
       "      <td>0.0</td>\n",
       "      <td>0.0</td>\n",
       "      <td>0.0</td>\n",
       "      <td>0.0</td>\n",
       "      <td>0.0</td>\n",
       "      <td>1.0</td>\n",
       "      <td>0</td>\n",
       "      <td>0.096618</td>\n",
       "    </tr>\n",
       "  </tbody>\n",
       "</table>\n",
       "</div>"
      ],
      "text/plain": [
       "         User_id  Merchant_id Coupon_id  Distance Date_received      Date  \\\n",
       "743115   1410868         4663     11002  0.000000      20160528      null   \n",
       "392585   6479918          450      1532  0.181818      20160523      null   \n",
       "864608   4662241          760      2418  0.181818      20160603      null   \n",
       "1514879  2353001         1469     11848  0.272727      20160612      null   \n",
       "1262278   996095         1798      6889  0.000000      20160525  20160603   \n",
       "149013   6020268         4043      3222  0.454545      20160518      null   \n",
       "403656   2802747         5717      8192  0.181818      20160527      null   \n",
       "229150   1842797         1469      2601  0.090909      20160607      null   \n",
       "1594279  6526206         4663     13304  0.090909      20160530      null   \n",
       "1439267  6146853         6485      2079  0.090909      20160522      null   \n",
       "\n",
       "         Discount_type  Convert_rate  Discount_target  Discount_reduce  \\\n",
       "743115             1.0      0.812183         0.500000             0.20   \n",
       "392585             1.0      0.761421         0.100000             0.05   \n",
       "864608             1.0      0.761421         0.100000             0.05   \n",
       "1514879            1.0      0.710660         0.333333             0.20   \n",
       "1262278            1.0      0.634518         0.066667             0.05   \n",
       "149013             1.0      0.761421         0.100000             0.05   \n",
       "403656             1.0      0.634518         0.066667             0.05   \n",
       "229150             1.0      0.710660         0.333333             0.20   \n",
       "1594279            1.0      0.812183         0.500000             0.20   \n",
       "1439267            1.0      0.761421         0.100000             0.05   \n",
       "\n",
       "         weekday_type  weekday_1  weekday_2  weekday_3  weekday_4  weekday_5  \\\n",
       "743115            1.0        0.0        0.0        0.0        0.0        0.0   \n",
       "392585            0.0        1.0        0.0        0.0        0.0        0.0   \n",
       "864608            0.0        0.0        0.0        0.0        0.0        1.0   \n",
       "1514879           1.0        0.0        0.0        0.0        0.0        0.0   \n",
       "1262278           0.0        0.0        0.0        1.0        0.0        0.0   \n",
       "149013            0.0        0.0        0.0        1.0        0.0        0.0   \n",
       "403656            0.0        0.0        0.0        0.0        0.0        1.0   \n",
       "229150            0.0        0.0        1.0        0.0        0.0        0.0   \n",
       "1594279           0.0        1.0        0.0        0.0        0.0        0.0   \n",
       "1439267           1.0        0.0        0.0        0.0        0.0        0.0   \n",
       "\n",
       "         weekday_6  weekday_7  label  pred_prob  \n",
       "743115         1.0        0.0      0   0.031212  \n",
       "392585         0.0        0.0      0   0.079940  \n",
       "864608         0.0        0.0      0   0.086461  \n",
       "1514879        0.0        1.0      0   0.022161  \n",
       "1262278        0.0        0.0      1   0.191463  \n",
       "149013         0.0        0.0      0   0.056232  \n",
       "403656         0.0        0.0      0   0.108012  \n",
       "229150         0.0        0.0      0   0.047665  \n",
       "1594279        0.0        0.0      0   0.020496  \n",
       "1439267        0.0        1.0      0   0.096618  "
      ]
     },
     "execution_count": 45,
     "metadata": {},
     "output_type": "execute_result"
    }
   ],
   "source": [
    "test_tmp.sample(10)"
   ]
  },
  {
   "cell_type": "markdown",
   "metadata": {},
   "source": [
    "#### 计算AUC"
   ]
  },
  {
   "cell_type": "code",
   "execution_count": 46,
   "metadata": {
    "ExecuteTime": {
     "end_time": "2019-05-05T17:46:38.252945Z",
     "start_time": "2019-05-05T17:46:27.505279Z"
    }
   },
   "outputs": [
    {
     "name": "stdout",
     "output_type": "stream",
     "text": [
      "0.5331335604933403\n"
     ]
    }
   ],
   "source": [
    "test_group = test_tmp.groupby(['Coupon_id'])\n",
    "aucs = []\n",
    "for i in test_group:\n",
    "    tmp_df = i[1] \n",
    "    if len(tmp_df['label'].unique()) != 2:\n",
    "        continue\n",
    "    fpr, tpr, thresholds = roc_curve(tmp_df['label'], tmp_df['pred_prob'], pos_label=1)\n",
    "    aucs.append(auc(fpr, tpr))\n",
    "print(np.average(aucs))"
   ]
  },
  {
   "cell_type": "markdown",
   "metadata": {
    "ExecuteTime": {
     "end_time": "2019-05-05T04:43:09.158050Z",
     "start_time": "2019-05-05T04:43:09.153601Z"
    }
   },
   "source": [
    "## 测试"
   ]
  },
  {
   "cell_type": "code",
   "execution_count": 47,
   "metadata": {
    "ExecuteTime": {
     "end_time": "2019-05-05T17:46:38.710756Z",
     "start_time": "2019-05-05T17:46:38.257079Z"
    }
   },
   "outputs": [],
   "source": [
    "df_test[factors] = scaler.fit_transform(df_test[factors])"
   ]
  },
  {
   "cell_type": "code",
   "execution_count": 48,
   "metadata": {
    "ExecuteTime": {
     "end_time": "2019-05-05T17:46:39.747996Z",
     "start_time": "2019-05-05T17:46:38.714085Z"
    }
   },
   "outputs": [],
   "source": [
    "# test prediction for submission\n",
    "y_test_pred = model.predict_proba(df_test[factors])\n",
    "df_result = df_test[['User_id','Coupon_id','Date_received']].copy()\n",
    "df_result['Probability'] = y_test_pred[:,1]\n",
    "df_result.to_csv('submit1.csv', index=False, header=False)"
   ]
  },
  {
   "cell_type": "code",
   "execution_count": 49,
   "metadata": {
    "ExecuteTime": {
     "end_time": "2019-05-05T17:46:39.788390Z",
     "start_time": "2019-05-05T17:46:39.755292Z"
    }
   },
   "outputs": [
    {
     "data": {
      "text/html": [
       "<div>\n",
       "<style scoped>\n",
       "    .dataframe tbody tr th:only-of-type {\n",
       "        vertical-align: middle;\n",
       "    }\n",
       "\n",
       "    .dataframe tbody tr th {\n",
       "        vertical-align: top;\n",
       "    }\n",
       "\n",
       "    .dataframe thead th {\n",
       "        text-align: right;\n",
       "    }\n",
       "</style>\n",
       "<table border=\"1\" class=\"dataframe\">\n",
       "  <thead>\n",
       "    <tr style=\"text-align: right;\">\n",
       "      <th></th>\n",
       "      <th>User_id</th>\n",
       "      <th>Coupon_id</th>\n",
       "      <th>Date_received</th>\n",
       "      <th>Probability</th>\n",
       "    </tr>\n",
       "  </thead>\n",
       "  <tbody>\n",
       "    <tr>\n",
       "      <th>102215</th>\n",
       "      <td>1539872</td>\n",
       "      <td>9983</td>\n",
       "      <td>20160701</td>\n",
       "      <td>0.040583</td>\n",
       "    </tr>\n",
       "    <tr>\n",
       "      <th>105128</th>\n",
       "      <td>5500188</td>\n",
       "      <td>13602</td>\n",
       "      <td>20160705</td>\n",
       "      <td>0.172447</td>\n",
       "    </tr>\n",
       "    <tr>\n",
       "      <th>33398</th>\n",
       "      <td>865469</td>\n",
       "      <td>6390</td>\n",
       "      <td>20160727</td>\n",
       "      <td>0.137548</td>\n",
       "    </tr>\n",
       "    <tr>\n",
       "      <th>34143</th>\n",
       "      <td>5572173</td>\n",
       "      <td>12735</td>\n",
       "      <td>20160728</td>\n",
       "      <td>0.142959</td>\n",
       "    </tr>\n",
       "    <tr>\n",
       "      <th>81557</th>\n",
       "      <td>7144530</td>\n",
       "      <td>9983</td>\n",
       "      <td>20160728</td>\n",
       "      <td>0.117366</td>\n",
       "    </tr>\n",
       "    <tr>\n",
       "      <th>46574</th>\n",
       "      <td>3723975</td>\n",
       "      <td>12429</td>\n",
       "      <td>20160721</td>\n",
       "      <td>0.189363</td>\n",
       "    </tr>\n",
       "    <tr>\n",
       "      <th>6273</th>\n",
       "      <td>4915378</td>\n",
       "      <td>10418</td>\n",
       "      <td>20160728</td>\n",
       "      <td>0.077917</td>\n",
       "    </tr>\n",
       "    <tr>\n",
       "      <th>109041</th>\n",
       "      <td>2600690</td>\n",
       "      <td>13602</td>\n",
       "      <td>20160723</td>\n",
       "      <td>0.128958</td>\n",
       "    </tr>\n",
       "    <tr>\n",
       "      <th>25737</th>\n",
       "      <td>2856496</td>\n",
       "      <td>2978</td>\n",
       "      <td>20160706</td>\n",
       "      <td>0.202148</td>\n",
       "    </tr>\n",
       "    <tr>\n",
       "      <th>24621</th>\n",
       "      <td>4365352</td>\n",
       "      <td>8059</td>\n",
       "      <td>20160704</td>\n",
       "      <td>0.107598</td>\n",
       "    </tr>\n",
       "  </tbody>\n",
       "</table>\n",
       "</div>"
      ],
      "text/plain": [
       "        User_id  Coupon_id  Date_received  Probability\n",
       "102215  1539872       9983       20160701     0.040583\n",
       "105128  5500188      13602       20160705     0.172447\n",
       "33398    865469       6390       20160727     0.137548\n",
       "34143   5572173      12735       20160728     0.142959\n",
       "81557   7144530       9983       20160728     0.117366\n",
       "46574   3723975      12429       20160721     0.189363\n",
       "6273    4915378      10418       20160728     0.077917\n",
       "109041  2600690      13602       20160723     0.128958\n",
       "25737   2856496       2978       20160706     0.202148\n",
       "24621   4365352       8059       20160704     0.107598"
      ]
     },
     "execution_count": 49,
     "metadata": {},
     "output_type": "execute_result"
    }
   ],
   "source": [
    "df_result.sample(10)"
   ]
  },
  {
   "cell_type": "markdown",
   "metadata": {},
   "source": [
    "## 保存模型 & 导入模型"
   ]
  },
  {
   "cell_type": "code",
   "execution_count": 50,
   "metadata": {
    "ExecuteTime": {
     "end_time": "2019-05-05T17:46:39.802303Z",
     "start_time": "2019-05-05T17:46:39.792237Z"
    }
   },
   "outputs": [],
   "source": [
    "import os\n",
    "import pickle"
   ]
  },
  {
   "cell_type": "code",
   "execution_count": 51,
   "metadata": {
    "ExecuteTime": {
     "end_time": "2019-05-05T17:46:39.829920Z",
     "start_time": "2019-05-05T17:46:39.810783Z"
    }
   },
   "outputs": [],
   "source": [
    "if not os.path.isfile('1_model.pkl'):\n",
    "    with open('1_model.pkl', 'wb') as f:\n",
    "        pickle.dump(model, f)\n",
    "else:\n",
    "    with open('1_model.pkl', 'rb') as f:\n",
    "        model = pickle.load(f)"
   ]
  }
 ],
 "metadata": {
  "kernelspec": {
   "display_name": "Python 3",
   "language": "python",
   "name": "python3"
  },
  "language_info": {
   "codemirror_mode": {
    "name": "ipython",
    "version": 3
   },
   "file_extension": ".py",
   "mimetype": "text/x-python",
   "name": "python",
   "nbconvert_exporter": "python",
   "pygments_lexer": "ipython3",
   "version": "3.7.2"
  },
  "toc": {
   "base_numbering": 1,
   "nav_menu": {},
   "number_sections": true,
   "sideBar": true,
   "skip_h1_title": true,
   "title_cell": "Table of Contents",
   "title_sidebar": "Contents",
   "toc_cell": false,
   "toc_position": {},
   "toc_section_display": true,
   "toc_window_display": false
  }
 },
 "nbformat": 4,
 "nbformat_minor": 2
}
