{
 "cells": [
  {
   "cell_type": "markdown",
   "metadata": {},
   "source": [
    "# 天池o2o优惠券使用预测"
   ]
  },
  {
   "cell_type": "markdown",
   "metadata": {},
   "source": [
    "## 加载相关库"
   ]
  },
  {
   "cell_type": "code",
   "execution_count": 1,
   "metadata": {
    "ExecuteTime": {
     "end_time": "2019-05-05T04:22:07.894786Z",
     "start_time": "2019-05-05T04:22:06.667803Z"
    }
   },
   "outputs": [],
   "source": [
    "# Import libraries necessary for this project\n",
    "import pandas as pd\n",
    "import numpy as np"
   ]
  },
  {
   "cell_type": "markdown",
   "metadata": {},
   "source": [
    "## 导入数据"
   ]
  },
  {
   "cell_type": "code",
   "execution_count": 2,
   "metadata": {
    "ExecuteTime": {
     "end_time": "2019-05-05T04:22:18.872831Z",
     "start_time": "2019-05-05T04:22:07.899141Z"
    }
   },
   "outputs": [],
   "source": [
    "df_offline = pd.read_csv('./data/ccf_offline_stage1_train.csv', keep_default_na=False)\n",
    "df_online = pd.read_csv('./data/ccf_online_stage1_train.csv', keep_default_na=False)\n",
    "df_test = pd.read_csv('./data/ccf_offline_stage1_test_revised.csv', keep_default_na=False)"
   ]
  },
  {
   "cell_type": "code",
   "execution_count": 3,
   "metadata": {
    "ExecuteTime": {
     "end_time": "2019-05-05T04:22:18.896417Z",
     "start_time": "2019-05-05T04:22:18.874723Z"
    }
   },
   "outputs": [
    {
     "data": {
      "text/html": [
       "<div>\n",
       "<style scoped>\n",
       "    .dataframe tbody tr th:only-of-type {\n",
       "        vertical-align: middle;\n",
       "    }\n",
       "\n",
       "    .dataframe tbody tr th {\n",
       "        vertical-align: top;\n",
       "    }\n",
       "\n",
       "    .dataframe thead th {\n",
       "        text-align: right;\n",
       "    }\n",
       "</style>\n",
       "<table border=\"1\" class=\"dataframe\">\n",
       "  <thead>\n",
       "    <tr style=\"text-align: right;\">\n",
       "      <th></th>\n",
       "      <th>User_id</th>\n",
       "      <th>Merchant_id</th>\n",
       "      <th>Coupon_id</th>\n",
       "      <th>Discount_rate</th>\n",
       "      <th>Distance</th>\n",
       "      <th>Date_received</th>\n",
       "      <th>Date</th>\n",
       "    </tr>\n",
       "  </thead>\n",
       "  <tbody>\n",
       "    <tr>\n",
       "      <th>0</th>\n",
       "      <td>1439408</td>\n",
       "      <td>2632</td>\n",
       "      <td>null</td>\n",
       "      <td>null</td>\n",
       "      <td>0</td>\n",
       "      <td>null</td>\n",
       "      <td>20160217</td>\n",
       "    </tr>\n",
       "    <tr>\n",
       "      <th>1</th>\n",
       "      <td>1439408</td>\n",
       "      <td>4663</td>\n",
       "      <td>11002</td>\n",
       "      <td>150:20</td>\n",
       "      <td>1</td>\n",
       "      <td>20160528</td>\n",
       "      <td>null</td>\n",
       "    </tr>\n",
       "    <tr>\n",
       "      <th>2</th>\n",
       "      <td>1439408</td>\n",
       "      <td>2632</td>\n",
       "      <td>8591</td>\n",
       "      <td>20:1</td>\n",
       "      <td>0</td>\n",
       "      <td>20160217</td>\n",
       "      <td>null</td>\n",
       "    </tr>\n",
       "    <tr>\n",
       "      <th>3</th>\n",
       "      <td>1439408</td>\n",
       "      <td>2632</td>\n",
       "      <td>1078</td>\n",
       "      <td>20:1</td>\n",
       "      <td>0</td>\n",
       "      <td>20160319</td>\n",
       "      <td>null</td>\n",
       "    </tr>\n",
       "    <tr>\n",
       "      <th>4</th>\n",
       "      <td>1439408</td>\n",
       "      <td>2632</td>\n",
       "      <td>8591</td>\n",
       "      <td>20:1</td>\n",
       "      <td>0</td>\n",
       "      <td>20160613</td>\n",
       "      <td>null</td>\n",
       "    </tr>\n",
       "  </tbody>\n",
       "</table>\n",
       "</div>"
      ],
      "text/plain": [
       "   User_id  Merchant_id Coupon_id Discount_rate Distance Date_received  \\\n",
       "0  1439408         2632      null          null        0          null   \n",
       "1  1439408         4663     11002        150:20        1      20160528   \n",
       "2  1439408         2632      8591          20:1        0      20160217   \n",
       "3  1439408         2632      1078          20:1        0      20160319   \n",
       "4  1439408         2632      8591          20:1        0      20160613   \n",
       "\n",
       "       Date  \n",
       "0  20160217  \n",
       "1      null  \n",
       "2      null  \n",
       "3      null  \n",
       "4      null  "
      ]
     },
     "execution_count": 3,
     "metadata": {},
     "output_type": "execute_result"
    }
   ],
   "source": [
    "df_offline.head()"
   ]
  },
  {
   "cell_type": "code",
   "execution_count": 4,
   "metadata": {
    "ExecuteTime": {
     "end_time": "2019-05-05T04:22:18.913405Z",
     "start_time": "2019-05-05T04:22:18.901731Z"
    }
   },
   "outputs": [
    {
     "name": "stdout",
     "output_type": "stream",
     "text": [
      "<class 'pandas.core.frame.DataFrame'>\n",
      "RangeIndex: 1754884 entries, 0 to 1754883\n",
      "Data columns (total 7 columns):\n",
      "User_id          int64\n",
      "Merchant_id      int64\n",
      "Coupon_id        object\n",
      "Discount_rate    object\n",
      "Distance         object\n",
      "Date_received    object\n",
      "Date             object\n",
      "dtypes: int64(2), object(5)\n",
      "memory usage: 93.7+ MB\n"
     ]
    }
   ],
   "source": [
    "df_offline.info()"
   ]
  },
  {
   "cell_type": "markdown",
   "metadata": {},
   "source": [
    "## 简单统计"
   ]
  },
  {
   "cell_type": "markdown",
   "metadata": {},
   "source": [
    "简单统计一下用户使用优惠券的情况"
   ]
  },
  {
   "cell_type": "code",
   "execution_count": 5,
   "metadata": {
    "ExecuteTime": {
     "end_time": "2019-05-05T04:22:19.853279Z",
     "start_time": "2019-05-05T04:22:18.917408Z"
    }
   },
   "outputs": [],
   "source": [
    "receive_and_buy = df_offline[(df_offline['Date_received'] != 'null') & (df_offline['Date'] != 'null')]\n",
    "receive_not_buy = df_offline[(df_offline['Date_received'] != 'null') & (df_offline['Date'] == 'null')]\n",
    "not_receive_and_buy = df_offline[(df_offline['Date_received'] == 'null') & (df_offline['Date'] != 'null')]\n",
    "not_receive_not_buy = df_offline[(df_offline['Date_received'] == 'null') & (df_offline['Date'] == 'null')]"
   ]
  },
  {
   "cell_type": "code",
   "execution_count": 6,
   "metadata": {
    "ExecuteTime": {
     "end_time": "2019-05-05T04:22:19.859462Z",
     "start_time": "2019-05-05T04:22:19.855213Z"
    }
   },
   "outputs": [
    {
     "name": "stdout",
     "output_type": "stream",
     "text": [
      "有优惠券，购买商品：75382\n",
      "有优惠券，未购商品：977900\n",
      "无优惠券，购买商品：701602\n",
      "无优惠券，未购商品：0\n"
     ]
    }
   ],
   "source": [
    "print('有优惠券，购买商品：{}'.format(receive_and_buy.shape[0]))\n",
    "print('有优惠券，未购商品：{}'.format(receive_not_buy.shape[0]))\n",
    "print('无优惠券，购买商品：{}'.format(not_receive_and_buy.shape[0]))\n",
    "print('无优惠券，未购商品：{}'.format(not_receive_not_buy.shape[0]))"
   ]
  },
  {
   "cell_type": "markdown",
   "metadata": {},
   "source": [
    "可见，很多人（701602）购买商品却没有使用优惠券，也有很多人（977900）有优惠券但却没有使用，真正使用优惠券购买商品的人（75382）很少！所以，这个比赛的意义就是把优惠券送给真正可能会购买商品的人。"
   ]
  },
  {
   "cell_type": "markdown",
   "metadata": {},
   "source": [
    "## 特征提取"
   ]
  },
  {
   "cell_type": "code",
   "execution_count": 7,
   "metadata": {
    "ExecuteTime": {
     "end_time": "2019-05-05T04:22:19.867470Z",
     "start_time": "2019-05-05T04:22:19.862338Z"
    }
   },
   "outputs": [
    {
     "name": "stdout",
     "output_type": "stream",
     "text": [
      "Index(['User_id', 'Merchant_id', 'Coupon_id', 'Discount_rate', 'Distance',\n",
      "       'Date_received', 'Date'],\n",
      "      dtype='object')\n"
     ]
    }
   ],
   "source": [
    "print(df_offline.columns)"
   ]
  },
  {
   "cell_type": "markdown",
   "metadata": {},
   "source": [
    "### 打折率 Discount_rate"
   ]
  },
  {
   "cell_type": "code",
   "execution_count": 8,
   "metadata": {
    "ExecuteTime": {
     "end_time": "2019-05-05T04:22:19.953604Z",
     "start_time": "2019-05-05T04:22:19.870604Z"
    }
   },
   "outputs": [
    {
     "data": {
      "text/plain": [
       "array(['null', '150:20', '20:1', '200:20', '30:5', '50:10', '10:5',\n",
       "       '100:10', '200:30', '20:5', '30:10', '50:5', '150:10', '100:30',\n",
       "       '200:50', '100:50', '300:30', '50:20', '0.9', '10:1', '30:1',\n",
       "       '0.95', '100:5', '5:1', '100:20', '0.8', '50:1', '200:10',\n",
       "       '300:20', '100:1', '150:30', '300:50', '20:10', '0.85', '0.6',\n",
       "       '150:50', '0.75', '0.5', '200:5', '0.7', '30:20', '300:10', '0.2',\n",
       "       '50:30', '200:100', '150:5'], dtype=object)"
      ]
     },
     "execution_count": 8,
     "metadata": {},
     "output_type": "execute_result"
    }
   ],
   "source": [
    "df_offline['Discount_rate'].unique()"
   ]
  },
  {
   "cell_type": "markdown",
   "metadata": {},
   "source": [
    "打折率分为 3 种情况：\n",
    "\n",
    "- 'null' 表示没有打折: -1\n",
    "- [0,1] 表示折扣率: 0\n",
    "- x:y 表示满x减y: 1"
   ]
  },
  {
   "cell_type": "markdown",
   "metadata": {},
   "source": [
    "处理方式：\n",
    "\n",
    "- 打折类型：getDiscountType()\n",
    "- 折扣率：convertRate()\n",
    "- 满多少：getDiscountTarget()\n",
    "- 减多少：getDiscountReduce()"
   ]
  },
  {
   "cell_type": "markdown",
   "metadata": {},
   "source": [
    "**Build functions to deal with the Discount_rate**"
   ]
  },
  {
   "cell_type": "code",
   "execution_count": 9,
   "metadata": {
    "ExecuteTime": {
     "end_time": "2019-05-05T04:22:19.959357Z",
     "start_time": "2019-05-05T04:22:19.955431Z"
    }
   },
   "outputs": [],
   "source": [
    "def getDiscountType(row):\n",
    "    if row == 'null':\n",
    "        return -1\n",
    "    elif ':' in row:\n",
    "        return 1\n",
    "    else:\n",
    "        return 0"
   ]
  },
  {
   "cell_type": "code",
   "execution_count": 10,
   "metadata": {
    "ExecuteTime": {
     "end_time": "2019-05-05T04:22:19.966283Z",
     "start_time": "2019-05-05T04:22:19.962113Z"
    }
   },
   "outputs": [],
   "source": [
    "def convertRate(row):\n",
    "    if row == 'null':\n",
    "        return 1.0\n",
    "    elif ':' in row:\n",
    "        rows = row.split(':')\n",
    "        return 1 - float(rows[1])/float(rows[0])\n",
    "    else:\n",
    "        return float(row)"
   ]
  },
  {
   "cell_type": "code",
   "execution_count": 11,
   "metadata": {
    "ExecuteTime": {
     "end_time": "2019-05-05T04:22:19.971609Z",
     "start_time": "2019-05-05T04:22:19.968223Z"
    }
   },
   "outputs": [],
   "source": [
    "def getDiscountTarget(row):\n",
    "    if ':' in row:\n",
    "        rows = row.split(':')\n",
    "        return int(rows[0])\n",
    "    else:\n",
    "        return 0"
   ]
  },
  {
   "cell_type": "code",
   "execution_count": 12,
   "metadata": {
    "ExecuteTime": {
     "end_time": "2019-05-05T04:22:19.977375Z",
     "start_time": "2019-05-05T04:22:19.973669Z"
    }
   },
   "outputs": [],
   "source": [
    "def getDiscountReduce(row):\n",
    "    if ':' in row:\n",
    "        rows = row.split(':')\n",
    "        return int(rows[1])\n",
    "    else:\n",
    "        return 0"
   ]
  },
  {
   "cell_type": "code",
   "execution_count": 13,
   "metadata": {
    "ExecuteTime": {
     "end_time": "2019-05-05T04:22:19.983987Z",
     "start_time": "2019-05-05T04:22:19.979468Z"
    }
   },
   "outputs": [],
   "source": [
    "def processData(df):\n",
    "    df['Discount_type'] = df['Discount_rate'].apply(getDiscountType)\n",
    "    df['Convert_rate'] = df['Discount_rate'].apply(convertRate)\n",
    "    df['Discount_target'] = df['Discount_rate'].apply(getDiscountTarget)\n",
    "    df['Discount_reduce'] = df['Discount_rate'].apply(getDiscountReduce)\n",
    "    \n",
    "    return df"
   ]
  },
  {
   "cell_type": "code",
   "execution_count": 14,
   "metadata": {
    "ExecuteTime": {
     "end_time": "2019-05-05T04:22:23.674800Z",
     "start_time": "2019-05-05T04:22:19.986355Z"
    }
   },
   "outputs": [],
   "source": [
    "df_offline = processData(df_offline)\n",
    "df_test = processData(df_test)"
   ]
  },
  {
   "cell_type": "code",
   "execution_count": 15,
   "metadata": {
    "ExecuteTime": {
     "end_time": "2019-05-05T04:22:23.868082Z",
     "start_time": "2019-05-05T04:22:23.676680Z"
    }
   },
   "outputs": [],
   "source": [
    "df_offline = df_offline.drop(['Discount_rate'], axis=1)\n",
    "df_test = df_test.drop(['Discount_rate'], axis=1)"
   ]
  },
  {
   "cell_type": "code",
   "execution_count": 16,
   "metadata": {
    "ExecuteTime": {
     "end_time": "2019-05-05T04:22:23.990518Z",
     "start_time": "2019-05-05T04:22:23.871723Z"
    }
   },
   "outputs": [
    {
     "data": {
      "text/html": [
       "<div>\n",
       "<style scoped>\n",
       "    .dataframe tbody tr th:only-of-type {\n",
       "        vertical-align: middle;\n",
       "    }\n",
       "\n",
       "    .dataframe tbody tr th {\n",
       "        vertical-align: top;\n",
       "    }\n",
       "\n",
       "    .dataframe thead th {\n",
       "        text-align: right;\n",
       "    }\n",
       "</style>\n",
       "<table border=\"1\" class=\"dataframe\">\n",
       "  <thead>\n",
       "    <tr style=\"text-align: right;\">\n",
       "      <th></th>\n",
       "      <th>User_id</th>\n",
       "      <th>Merchant_id</th>\n",
       "      <th>Coupon_id</th>\n",
       "      <th>Distance</th>\n",
       "      <th>Date_received</th>\n",
       "      <th>Date</th>\n",
       "      <th>Discount_type</th>\n",
       "      <th>Convert_rate</th>\n",
       "      <th>Discount_target</th>\n",
       "      <th>Discount_reduce</th>\n",
       "    </tr>\n",
       "  </thead>\n",
       "  <tbody>\n",
       "    <tr>\n",
       "      <th>727054</th>\n",
       "      <td>6322328</td>\n",
       "      <td>5341</td>\n",
       "      <td>111</td>\n",
       "      <td>null</td>\n",
       "      <td>20160207</td>\n",
       "      <td>null</td>\n",
       "      <td>1</td>\n",
       "      <td>0.833333</td>\n",
       "      <td>30</td>\n",
       "      <td>5</td>\n",
       "    </tr>\n",
       "    <tr>\n",
       "      <th>65374</th>\n",
       "      <td>1793510</td>\n",
       "      <td>5717</td>\n",
       "      <td>8192</td>\n",
       "      <td>0</td>\n",
       "      <td>20160522</td>\n",
       "      <td>null</td>\n",
       "      <td>1</td>\n",
       "      <td>0.750000</td>\n",
       "      <td>20</td>\n",
       "      <td>5</td>\n",
       "    </tr>\n",
       "    <tr>\n",
       "      <th>435538</th>\n",
       "      <td>2406057</td>\n",
       "      <td>308</td>\n",
       "      <td>null</td>\n",
       "      <td>0</td>\n",
       "      <td>null</td>\n",
       "      <td>20160225</td>\n",
       "      <td>-1</td>\n",
       "      <td>1.000000</td>\n",
       "      <td>0</td>\n",
       "      <td>0</td>\n",
       "    </tr>\n",
       "    <tr>\n",
       "      <th>1064733</th>\n",
       "      <td>6760275</td>\n",
       "      <td>2934</td>\n",
       "      <td>null</td>\n",
       "      <td>0</td>\n",
       "      <td>null</td>\n",
       "      <td>20160201</td>\n",
       "      <td>-1</td>\n",
       "      <td>1.000000</td>\n",
       "      <td>0</td>\n",
       "      <td>0</td>\n",
       "    </tr>\n",
       "    <tr>\n",
       "      <th>918889</th>\n",
       "      <td>3457867</td>\n",
       "      <td>4083</td>\n",
       "      <td>4270</td>\n",
       "      <td>0</td>\n",
       "      <td>20160522</td>\n",
       "      <td>20160601</td>\n",
       "      <td>1</td>\n",
       "      <td>0.750000</td>\n",
       "      <td>20</td>\n",
       "      <td>5</td>\n",
       "    </tr>\n",
       "    <tr>\n",
       "      <th>1129369</th>\n",
       "      <td>536648</td>\n",
       "      <td>2099</td>\n",
       "      <td>null</td>\n",
       "      <td>9</td>\n",
       "      <td>null</td>\n",
       "      <td>20160605</td>\n",
       "      <td>-1</td>\n",
       "      <td>1.000000</td>\n",
       "      <td>0</td>\n",
       "      <td>0</td>\n",
       "    </tr>\n",
       "    <tr>\n",
       "      <th>478765</th>\n",
       "      <td>7015207</td>\n",
       "      <td>7974</td>\n",
       "      <td>null</td>\n",
       "      <td>0</td>\n",
       "      <td>null</td>\n",
       "      <td>20160128</td>\n",
       "      <td>-1</td>\n",
       "      <td>1.000000</td>\n",
       "      <td>0</td>\n",
       "      <td>0</td>\n",
       "    </tr>\n",
       "    <tr>\n",
       "      <th>979758</th>\n",
       "      <td>3832867</td>\n",
       "      <td>1469</td>\n",
       "      <td>null</td>\n",
       "      <td>1</td>\n",
       "      <td>null</td>\n",
       "      <td>20160614</td>\n",
       "      <td>-1</td>\n",
       "      <td>1.000000</td>\n",
       "      <td>0</td>\n",
       "      <td>0</td>\n",
       "    </tr>\n",
       "    <tr>\n",
       "      <th>1649229</th>\n",
       "      <td>4434731</td>\n",
       "      <td>8693</td>\n",
       "      <td>null</td>\n",
       "      <td>0</td>\n",
       "      <td>null</td>\n",
       "      <td>20160618</td>\n",
       "      <td>-1</td>\n",
       "      <td>1.000000</td>\n",
       "      <td>0</td>\n",
       "      <td>0</td>\n",
       "    </tr>\n",
       "    <tr>\n",
       "      <th>272200</th>\n",
       "      <td>4910933</td>\n",
       "      <td>6454</td>\n",
       "      <td>14031</td>\n",
       "      <td>1</td>\n",
       "      <td>20160130</td>\n",
       "      <td>null</td>\n",
       "      <td>1</td>\n",
       "      <td>0.900000</td>\n",
       "      <td>100</td>\n",
       "      <td>10</td>\n",
       "    </tr>\n",
       "  </tbody>\n",
       "</table>\n",
       "</div>"
      ],
      "text/plain": [
       "         User_id  Merchant_id Coupon_id Distance Date_received      Date  \\\n",
       "727054   6322328         5341       111     null      20160207      null   \n",
       "65374    1793510         5717      8192        0      20160522      null   \n",
       "435538   2406057          308      null        0          null  20160225   \n",
       "1064733  6760275         2934      null        0          null  20160201   \n",
       "918889   3457867         4083      4270        0      20160522  20160601   \n",
       "1129369   536648         2099      null        9          null  20160605   \n",
       "478765   7015207         7974      null        0          null  20160128   \n",
       "979758   3832867         1469      null        1          null  20160614   \n",
       "1649229  4434731         8693      null        0          null  20160618   \n",
       "272200   4910933         6454     14031        1      20160130      null   \n",
       "\n",
       "         Discount_type  Convert_rate  Discount_target  Discount_reduce  \n",
       "727054               1      0.833333               30                5  \n",
       "65374                1      0.750000               20                5  \n",
       "435538              -1      1.000000                0                0  \n",
       "1064733             -1      1.000000                0                0  \n",
       "918889               1      0.750000               20                5  \n",
       "1129369             -1      1.000000                0                0  \n",
       "478765              -1      1.000000                0                0  \n",
       "979758              -1      1.000000                0                0  \n",
       "1649229             -1      1.000000                0                0  \n",
       "272200               1      0.900000              100               10  "
      ]
     },
     "execution_count": 16,
     "metadata": {},
     "output_type": "execute_result"
    }
   ],
   "source": [
    "df_offline.sample(10)"
   ]
  },
  {
   "cell_type": "markdown",
   "metadata": {},
   "source": [
    "### 距离 Distance"
   ]
  },
  {
   "cell_type": "code",
   "execution_count": 17,
   "metadata": {
    "ExecuteTime": {
     "end_time": "2019-05-05T04:22:24.098886Z",
     "start_time": "2019-05-05T04:22:23.994659Z"
    }
   },
   "outputs": [
    {
     "data": {
      "text/plain": [
       "array(['0', '1', 'null', '2', '10', '4', '7', '9', '3', '5', '6', '8'],\n",
       "      dtype=object)"
      ]
     },
     "execution_count": 17,
     "metadata": {},
     "output_type": "execute_result"
    }
   ],
   "source": [
    "df_offline['Distance'].unique()"
   ]
  },
  {
   "cell_type": "markdown",
   "metadata": {},
   "source": [
    "- 将距离数据类型由str转换为int\n",
    "- 将null转换为-1"
   ]
  },
  {
   "cell_type": "code",
   "execution_count": 18,
   "metadata": {
    "ExecuteTime": {
     "end_time": "2019-05-05T04:22:24.572128Z",
     "start_time": "2019-05-05T04:22:24.117928Z"
    }
   },
   "outputs": [],
   "source": [
    "df_offline['Distance'] = df_offline['Distance'].replace('null', -1).astype(int) \n",
    "df_test['Distance'] = df_test['Distance'].replace('null', -1).astype(int)"
   ]
  },
  {
   "cell_type": "code",
   "execution_count": 19,
   "metadata": {
    "ExecuteTime": {
     "end_time": "2019-05-05T04:22:24.795937Z",
     "start_time": "2019-05-05T04:22:24.574972Z"
    }
   },
   "outputs": [
    {
     "data": {
      "text/html": [
       "<div>\n",
       "<style scoped>\n",
       "    .dataframe tbody tr th:only-of-type {\n",
       "        vertical-align: middle;\n",
       "    }\n",
       "\n",
       "    .dataframe tbody tr th {\n",
       "        vertical-align: top;\n",
       "    }\n",
       "\n",
       "    .dataframe thead th {\n",
       "        text-align: right;\n",
       "    }\n",
       "</style>\n",
       "<table border=\"1\" class=\"dataframe\">\n",
       "  <thead>\n",
       "    <tr style=\"text-align: right;\">\n",
       "      <th></th>\n",
       "      <th>User_id</th>\n",
       "      <th>Merchant_id</th>\n",
       "      <th>Coupon_id</th>\n",
       "      <th>Distance</th>\n",
       "      <th>Date_received</th>\n",
       "      <th>Date</th>\n",
       "      <th>Discount_type</th>\n",
       "      <th>Convert_rate</th>\n",
       "      <th>Discount_target</th>\n",
       "      <th>Discount_reduce</th>\n",
       "    </tr>\n",
       "  </thead>\n",
       "  <tbody>\n",
       "    <tr>\n",
       "      <th>906109</th>\n",
       "      <td>3729181</td>\n",
       "      <td>2934</td>\n",
       "      <td>null</td>\n",
       "      <td>1</td>\n",
       "      <td>null</td>\n",
       "      <td>20160318</td>\n",
       "      <td>-1</td>\n",
       "      <td>1.000000</td>\n",
       "      <td>0</td>\n",
       "      <td>0</td>\n",
       "    </tr>\n",
       "    <tr>\n",
       "      <th>1254475</th>\n",
       "      <td>1692408</td>\n",
       "      <td>3381</td>\n",
       "      <td>7610</td>\n",
       "      <td>0</td>\n",
       "      <td>20160415</td>\n",
       "      <td>null</td>\n",
       "      <td>1</td>\n",
       "      <td>0.900000</td>\n",
       "      <td>200</td>\n",
       "      <td>20</td>\n",
       "    </tr>\n",
       "    <tr>\n",
       "      <th>1675100</th>\n",
       "      <td>4388051</td>\n",
       "      <td>517</td>\n",
       "      <td>null</td>\n",
       "      <td>0</td>\n",
       "      <td>null</td>\n",
       "      <td>20160512</td>\n",
       "      <td>-1</td>\n",
       "      <td>1.000000</td>\n",
       "      <td>0</td>\n",
       "      <td>0</td>\n",
       "    </tr>\n",
       "    <tr>\n",
       "      <th>1743108</th>\n",
       "      <td>5046936</td>\n",
       "      <td>2376</td>\n",
       "      <td>null</td>\n",
       "      <td>0</td>\n",
       "      <td>null</td>\n",
       "      <td>20160106</td>\n",
       "      <td>-1</td>\n",
       "      <td>1.000000</td>\n",
       "      <td>0</td>\n",
       "      <td>0</td>\n",
       "    </tr>\n",
       "    <tr>\n",
       "      <th>785609</th>\n",
       "      <td>1262422</td>\n",
       "      <td>7483</td>\n",
       "      <td>null</td>\n",
       "      <td>4</td>\n",
       "      <td>null</td>\n",
       "      <td>20160321</td>\n",
       "      <td>-1</td>\n",
       "      <td>1.000000</td>\n",
       "      <td>0</td>\n",
       "      <td>0</td>\n",
       "    </tr>\n",
       "    <tr>\n",
       "      <th>451810</th>\n",
       "      <td>6615494</td>\n",
       "      <td>7132</td>\n",
       "      <td>null</td>\n",
       "      <td>0</td>\n",
       "      <td>null</td>\n",
       "      <td>20160326</td>\n",
       "      <td>-1</td>\n",
       "      <td>1.000000</td>\n",
       "      <td>0</td>\n",
       "      <td>0</td>\n",
       "    </tr>\n",
       "    <tr>\n",
       "      <th>91552</th>\n",
       "      <td>3649016</td>\n",
       "      <td>1232</td>\n",
       "      <td>2533</td>\n",
       "      <td>1</td>\n",
       "      <td>20160603</td>\n",
       "      <td>null</td>\n",
       "      <td>1</td>\n",
       "      <td>0.800000</td>\n",
       "      <td>100</td>\n",
       "      <td>20</td>\n",
       "    </tr>\n",
       "    <tr>\n",
       "      <th>65379</th>\n",
       "      <td>864243</td>\n",
       "      <td>2080</td>\n",
       "      <td>null</td>\n",
       "      <td>1</td>\n",
       "      <td>null</td>\n",
       "      <td>20160508</td>\n",
       "      <td>-1</td>\n",
       "      <td>1.000000</td>\n",
       "      <td>0</td>\n",
       "      <td>0</td>\n",
       "    </tr>\n",
       "    <tr>\n",
       "      <th>259493</th>\n",
       "      <td>7223945</td>\n",
       "      <td>8775</td>\n",
       "      <td>null</td>\n",
       "      <td>0</td>\n",
       "      <td>null</td>\n",
       "      <td>20160321</td>\n",
       "      <td>-1</td>\n",
       "      <td>1.000000</td>\n",
       "      <td>0</td>\n",
       "      <td>0</td>\n",
       "    </tr>\n",
       "    <tr>\n",
       "      <th>1566137</th>\n",
       "      <td>5659698</td>\n",
       "      <td>7573</td>\n",
       "      <td>10517</td>\n",
       "      <td>-1</td>\n",
       "      <td>20160501</td>\n",
       "      <td>null</td>\n",
       "      <td>1</td>\n",
       "      <td>0.966667</td>\n",
       "      <td>30</td>\n",
       "      <td>1</td>\n",
       "    </tr>\n",
       "  </tbody>\n",
       "</table>\n",
       "</div>"
      ],
      "text/plain": [
       "         User_id  Merchant_id Coupon_id  Distance Date_received      Date  \\\n",
       "906109   3729181         2934      null         1          null  20160318   \n",
       "1254475  1692408         3381      7610         0      20160415      null   \n",
       "1675100  4388051          517      null         0          null  20160512   \n",
       "1743108  5046936         2376      null         0          null  20160106   \n",
       "785609   1262422         7483      null         4          null  20160321   \n",
       "451810   6615494         7132      null         0          null  20160326   \n",
       "91552    3649016         1232      2533         1      20160603      null   \n",
       "65379     864243         2080      null         1          null  20160508   \n",
       "259493   7223945         8775      null         0          null  20160321   \n",
       "1566137  5659698         7573     10517        -1      20160501      null   \n",
       "\n",
       "         Discount_type  Convert_rate  Discount_target  Discount_reduce  \n",
       "906109              -1      1.000000                0                0  \n",
       "1254475              1      0.900000              200               20  \n",
       "1675100             -1      1.000000                0                0  \n",
       "1743108             -1      1.000000                0                0  \n",
       "785609              -1      1.000000                0                0  \n",
       "451810              -1      1.000000                0                0  \n",
       "91552                1      0.800000              100               20  \n",
       "65379               -1      1.000000                0                0  \n",
       "259493              -1      1.000000                0                0  \n",
       "1566137              1      0.966667               30                1  "
      ]
     },
     "execution_count": 19,
     "metadata": {},
     "output_type": "execute_result"
    }
   ],
   "source": [
    "df_offline.sample(10)"
   ]
  },
  {
   "cell_type": "markdown",
   "metadata": {},
   "source": [
    "### 领券日期 Date_received"
   ]
  },
  {
   "cell_type": "code",
   "execution_count": 20,
   "metadata": {
    "ExecuteTime": {
     "end_time": "2019-05-05T04:22:24.907143Z",
     "start_time": "2019-05-05T04:22:24.798602Z"
    }
   },
   "outputs": [],
   "source": [
    "date_received = df_offline['Date_received'].unique()\n",
    "date_received = sorted(date_received[date_received != 'null'])"
   ]
  },
  {
   "cell_type": "code",
   "execution_count": 21,
   "metadata": {
    "ExecuteTime": {
     "end_time": "2019-05-05T04:22:24.980613Z",
     "start_time": "2019-05-05T04:22:24.909827Z"
    }
   },
   "outputs": [],
   "source": [
    "date_buy = df_offline['Date'].unique()\n",
    "date_buy = sorted(date_buy[date_buy != 'null'])"
   ]
  },
  {
   "cell_type": "code",
   "execution_count": 22,
   "metadata": {
    "ExecuteTime": {
     "end_time": "2019-05-05T04:22:24.986463Z",
     "start_time": "2019-05-05T04:22:24.982505Z"
    }
   },
   "outputs": [
    {
     "name": "stdout",
     "output_type": "stream",
     "text": [
      "优惠卷收到日期从 20160101 到 20160615\n",
      "消费日期从 20160101 到 20160630\n"
     ]
    }
   ],
   "source": [
    "print('优惠卷收到日期从 {} 到 {}'.format(date_received[0], date_received[-1]))\n",
    "print('消费日期从 {} 到 {}'.format(date_buy[0], date_buy[-1]))"
   ]
  },
  {
   "cell_type": "markdown",
   "metadata": {},
   "source": [
    "关于领劵日期的特征：\n",
    "- weekday : {null, 1, 2, 3, 4, 5, 6, 7}\n",
    "- weekday_type : {1, 0}（周六和周日为1，其他为0）\n",
    "- weekday_1 : {1, 0, 0, 0, 0, 0, 0}\n",
    "- weekday_2 : {0, 1, 0, 0, 0, 0, 0}\n",
    "- weekday_3 : {0, 0, 1, 0, 0, 0, 0}\n",
    "- weekday_4 : {0, 0, 0, 1, 0, 0, 0}\n",
    "- weekday_5 : {0, 0, 0, 0, 1, 0, 0}\n",
    "- weekday_6 : {0, 0, 0, 0, 0, 1, 0}\n",
    "- weekday_7 : {0, 0, 0, 0, 0, 0, 1}"
   ]
  },
  {
   "cell_type": "code",
   "execution_count": 23,
   "metadata": {
    "ExecuteTime": {
     "end_time": "2019-05-05T04:22:24.992845Z",
     "start_time": "2019-05-05T04:22:24.988535Z"
    }
   },
   "outputs": [],
   "source": [
    "from datetime import date"
   ]
  },
  {
   "cell_type": "code",
   "execution_count": 24,
   "metadata": {
    "ExecuteTime": {
     "end_time": "2019-05-05T04:22:25.001258Z",
     "start_time": "2019-05-05T04:22:24.996018Z"
    }
   },
   "outputs": [],
   "source": [
    "def getWeekday(row):\n",
    "    if row == 'null':\n",
    "        return row\n",
    "    else:\n",
    "        return date(int(row[:4]), int(row[4:6]), int(row[6:])).weekday() + 1"
   ]
  },
  {
   "cell_type": "code",
   "execution_count": 25,
   "metadata": {
    "ExecuteTime": {
     "end_time": "2019-05-05T04:22:26.637187Z",
     "start_time": "2019-05-05T04:22:25.003334Z"
    }
   },
   "outputs": [],
   "source": [
    "df_offline['weekday'] = df_offline['Date_received'].astype(str).apply(getWeekday)\n",
    "df_test['weekday'] = df_test['Date_received'].astype(str).apply(getWeekday)"
   ]
  },
  {
   "cell_type": "code",
   "execution_count": 26,
   "metadata": {
    "ExecuteTime": {
     "end_time": "2019-05-05T04:22:27.215335Z",
     "start_time": "2019-05-05T04:22:26.638741Z"
    }
   },
   "outputs": [],
   "source": [
    "df_offline['weekday_type'] = df_offline['weekday'].apply(lambda x: 1 if x in [6,7] else 0)\n",
    "df_test['weekday_type'] = df_test['weekday'].apply(lambda x: 1 if x in [6,7] else 0)"
   ]
  },
  {
   "cell_type": "code",
   "execution_count": 27,
   "metadata": {
    "ExecuteTime": {
     "end_time": "2019-05-05T04:22:27.622241Z",
     "start_time": "2019-05-05T04:22:27.217202Z"
    }
   },
   "outputs": [],
   "source": [
    "# Change weekday to one_hot encoding\n",
    "col_names = ['weekday_' + str(i) for i in range(1,8)]\n",
    "\n",
    "tmp_df = pd.get_dummies(df_offline['weekday'].replace('null', np.nan))\n",
    "tmp_df.columns = col_names\n",
    "df_offline[col_names] = tmp_df\n",
    "\n",
    "tmp_df = pd.get_dummies(df_test['weekday'].replace('null', np.nan))\n",
    "tmp_df.columns = col_names\n",
    "df_test[col_names] = tmp_df"
   ]
  },
  {
   "cell_type": "code",
   "execution_count": 28,
   "metadata": {
    "ExecuteTime": {
     "end_time": "2019-05-05T04:22:28.134878Z",
     "start_time": "2019-05-05T04:22:27.623823Z"
    }
   },
   "outputs": [],
   "source": [
    "df_offline = df_offline.drop(['weekday'], axis=1)\n",
    "df_test = df_test.drop(['weekday'], axis=1)"
   ]
  },
  {
   "cell_type": "code",
   "execution_count": 29,
   "metadata": {
    "ExecuteTime": {
     "end_time": "2019-05-05T04:22:28.221660Z",
     "start_time": "2019-05-05T04:22:28.136693Z"
    }
   },
   "outputs": [
    {
     "data": {
      "text/html": [
       "<div>\n",
       "<style scoped>\n",
       "    .dataframe tbody tr th:only-of-type {\n",
       "        vertical-align: middle;\n",
       "    }\n",
       "\n",
       "    .dataframe tbody tr th {\n",
       "        vertical-align: top;\n",
       "    }\n",
       "\n",
       "    .dataframe thead th {\n",
       "        text-align: right;\n",
       "    }\n",
       "</style>\n",
       "<table border=\"1\" class=\"dataframe\">\n",
       "  <thead>\n",
       "    <tr style=\"text-align: right;\">\n",
       "      <th></th>\n",
       "      <th>User_id</th>\n",
       "      <th>Merchant_id</th>\n",
       "      <th>Coupon_id</th>\n",
       "      <th>Distance</th>\n",
       "      <th>Date_received</th>\n",
       "      <th>Date</th>\n",
       "      <th>Discount_type</th>\n",
       "      <th>Convert_rate</th>\n",
       "      <th>Discount_target</th>\n",
       "      <th>Discount_reduce</th>\n",
       "      <th>weekday_type</th>\n",
       "      <th>weekday_1</th>\n",
       "      <th>weekday_2</th>\n",
       "      <th>weekday_3</th>\n",
       "      <th>weekday_4</th>\n",
       "      <th>weekday_5</th>\n",
       "      <th>weekday_6</th>\n",
       "      <th>weekday_7</th>\n",
       "    </tr>\n",
       "  </thead>\n",
       "  <tbody>\n",
       "    <tr>\n",
       "      <th>1536991</th>\n",
       "      <td>2598323</td>\n",
       "      <td>8775</td>\n",
       "      <td>null</td>\n",
       "      <td>0</td>\n",
       "      <td>null</td>\n",
       "      <td>20160306</td>\n",
       "      <td>-1</td>\n",
       "      <td>1.000000</td>\n",
       "      <td>0</td>\n",
       "      <td>0</td>\n",
       "      <td>0</td>\n",
       "      <td>0</td>\n",
       "      <td>0</td>\n",
       "      <td>0</td>\n",
       "      <td>0</td>\n",
       "      <td>0</td>\n",
       "      <td>0</td>\n",
       "      <td>0</td>\n",
       "    </tr>\n",
       "    <tr>\n",
       "      <th>199367</th>\n",
       "      <td>1235285</td>\n",
       "      <td>3314</td>\n",
       "      <td>null</td>\n",
       "      <td>0</td>\n",
       "      <td>null</td>\n",
       "      <td>20160512</td>\n",
       "      <td>-1</td>\n",
       "      <td>1.000000</td>\n",
       "      <td>0</td>\n",
       "      <td>0</td>\n",
       "      <td>0</td>\n",
       "      <td>0</td>\n",
       "      <td>0</td>\n",
       "      <td>0</td>\n",
       "      <td>0</td>\n",
       "      <td>0</td>\n",
       "      <td>0</td>\n",
       "      <td>0</td>\n",
       "    </tr>\n",
       "    <tr>\n",
       "      <th>859969</th>\n",
       "      <td>6581137</td>\n",
       "      <td>1274</td>\n",
       "      <td>null</td>\n",
       "      <td>8</td>\n",
       "      <td>null</td>\n",
       "      <td>20160507</td>\n",
       "      <td>-1</td>\n",
       "      <td>1.000000</td>\n",
       "      <td>0</td>\n",
       "      <td>0</td>\n",
       "      <td>0</td>\n",
       "      <td>0</td>\n",
       "      <td>0</td>\n",
       "      <td>0</td>\n",
       "      <td>0</td>\n",
       "      <td>0</td>\n",
       "      <td>0</td>\n",
       "      <td>0</td>\n",
       "    </tr>\n",
       "    <tr>\n",
       "      <th>872404</th>\n",
       "      <td>4731997</td>\n",
       "      <td>6901</td>\n",
       "      <td>null</td>\n",
       "      <td>1</td>\n",
       "      <td>null</td>\n",
       "      <td>20160128</td>\n",
       "      <td>-1</td>\n",
       "      <td>1.000000</td>\n",
       "      <td>0</td>\n",
       "      <td>0</td>\n",
       "      <td>0</td>\n",
       "      <td>0</td>\n",
       "      <td>0</td>\n",
       "      <td>0</td>\n",
       "      <td>0</td>\n",
       "      <td>0</td>\n",
       "      <td>0</td>\n",
       "      <td>0</td>\n",
       "    </tr>\n",
       "    <tr>\n",
       "      <th>243624</th>\n",
       "      <td>2920178</td>\n",
       "      <td>6803</td>\n",
       "      <td>10649</td>\n",
       "      <td>0</td>\n",
       "      <td>20160324</td>\n",
       "      <td>null</td>\n",
       "      <td>1</td>\n",
       "      <td>0.833333</td>\n",
       "      <td>30</td>\n",
       "      <td>5</td>\n",
       "      <td>0</td>\n",
       "      <td>0</td>\n",
       "      <td>0</td>\n",
       "      <td>0</td>\n",
       "      <td>1</td>\n",
       "      <td>0</td>\n",
       "      <td>0</td>\n",
       "      <td>0</td>\n",
       "    </tr>\n",
       "    <tr>\n",
       "      <th>84012</th>\n",
       "      <td>5416920</td>\n",
       "      <td>3338</td>\n",
       "      <td>null</td>\n",
       "      <td>0</td>\n",
       "      <td>null</td>\n",
       "      <td>20160220</td>\n",
       "      <td>-1</td>\n",
       "      <td>1.000000</td>\n",
       "      <td>0</td>\n",
       "      <td>0</td>\n",
       "      <td>0</td>\n",
       "      <td>0</td>\n",
       "      <td>0</td>\n",
       "      <td>0</td>\n",
       "      <td>0</td>\n",
       "      <td>0</td>\n",
       "      <td>0</td>\n",
       "      <td>0</td>\n",
       "    </tr>\n",
       "    <tr>\n",
       "      <th>1737773</th>\n",
       "      <td>1812386</td>\n",
       "      <td>2099</td>\n",
       "      <td>12034</td>\n",
       "      <td>10</td>\n",
       "      <td>20160204</td>\n",
       "      <td>null</td>\n",
       "      <td>1</td>\n",
       "      <td>0.900000</td>\n",
       "      <td>100</td>\n",
       "      <td>10</td>\n",
       "      <td>0</td>\n",
       "      <td>0</td>\n",
       "      <td>0</td>\n",
       "      <td>0</td>\n",
       "      <td>1</td>\n",
       "      <td>0</td>\n",
       "      <td>0</td>\n",
       "      <td>0</td>\n",
       "    </tr>\n",
       "    <tr>\n",
       "      <th>927833</th>\n",
       "      <td>3512173</td>\n",
       "      <td>450</td>\n",
       "      <td>8555</td>\n",
       "      <td>3</td>\n",
       "      <td>20160202</td>\n",
       "      <td>null</td>\n",
       "      <td>1</td>\n",
       "      <td>0.833333</td>\n",
       "      <td>30</td>\n",
       "      <td>5</td>\n",
       "      <td>0</td>\n",
       "      <td>0</td>\n",
       "      <td>1</td>\n",
       "      <td>0</td>\n",
       "      <td>0</td>\n",
       "      <td>0</td>\n",
       "      <td>0</td>\n",
       "      <td>0</td>\n",
       "    </tr>\n",
       "    <tr>\n",
       "      <th>310330</th>\n",
       "      <td>5171657</td>\n",
       "      <td>4582</td>\n",
       "      <td>null</td>\n",
       "      <td>3</td>\n",
       "      <td>null</td>\n",
       "      <td>20160525</td>\n",
       "      <td>-1</td>\n",
       "      <td>1.000000</td>\n",
       "      <td>0</td>\n",
       "      <td>0</td>\n",
       "      <td>0</td>\n",
       "      <td>0</td>\n",
       "      <td>0</td>\n",
       "      <td>0</td>\n",
       "      <td>0</td>\n",
       "      <td>0</td>\n",
       "      <td>0</td>\n",
       "      <td>0</td>\n",
       "    </tr>\n",
       "    <tr>\n",
       "      <th>1488467</th>\n",
       "      <td>4175117</td>\n",
       "      <td>7555</td>\n",
       "      <td>9871</td>\n",
       "      <td>5</td>\n",
       "      <td>20160420</td>\n",
       "      <td>null</td>\n",
       "      <td>1</td>\n",
       "      <td>0.833333</td>\n",
       "      <td>30</td>\n",
       "      <td>5</td>\n",
       "      <td>0</td>\n",
       "      <td>0</td>\n",
       "      <td>0</td>\n",
       "      <td>1</td>\n",
       "      <td>0</td>\n",
       "      <td>0</td>\n",
       "      <td>0</td>\n",
       "      <td>0</td>\n",
       "    </tr>\n",
       "  </tbody>\n",
       "</table>\n",
       "</div>"
      ],
      "text/plain": [
       "         User_id  Merchant_id Coupon_id  Distance Date_received      Date  \\\n",
       "1536991  2598323         8775      null         0          null  20160306   \n",
       "199367   1235285         3314      null         0          null  20160512   \n",
       "859969   6581137         1274      null         8          null  20160507   \n",
       "872404   4731997         6901      null         1          null  20160128   \n",
       "243624   2920178         6803     10649         0      20160324      null   \n",
       "84012    5416920         3338      null         0          null  20160220   \n",
       "1737773  1812386         2099     12034        10      20160204      null   \n",
       "927833   3512173          450      8555         3      20160202      null   \n",
       "310330   5171657         4582      null         3          null  20160525   \n",
       "1488467  4175117         7555      9871         5      20160420      null   \n",
       "\n",
       "         Discount_type  Convert_rate  Discount_target  Discount_reduce  \\\n",
       "1536991             -1      1.000000                0                0   \n",
       "199367              -1      1.000000                0                0   \n",
       "859969              -1      1.000000                0                0   \n",
       "872404              -1      1.000000                0                0   \n",
       "243624               1      0.833333               30                5   \n",
       "84012               -1      1.000000                0                0   \n",
       "1737773              1      0.900000              100               10   \n",
       "927833               1      0.833333               30                5   \n",
       "310330              -1      1.000000                0                0   \n",
       "1488467              1      0.833333               30                5   \n",
       "\n",
       "         weekday_type  weekday_1  weekday_2  weekday_3  weekday_4  weekday_5  \\\n",
       "1536991             0          0          0          0          0          0   \n",
       "199367              0          0          0          0          0          0   \n",
       "859969              0          0          0          0          0          0   \n",
       "872404              0          0          0          0          0          0   \n",
       "243624              0          0          0          0          1          0   \n",
       "84012               0          0          0          0          0          0   \n",
       "1737773             0          0          0          0          1          0   \n",
       "927833              0          0          1          0          0          0   \n",
       "310330              0          0          0          0          0          0   \n",
       "1488467             0          0          0          1          0          0   \n",
       "\n",
       "         weekday_6  weekday_7  \n",
       "1536991          0          0  \n",
       "199367           0          0  \n",
       "859969           0          0  \n",
       "872404           0          0  \n",
       "243624           0          0  \n",
       "84012            0          0  \n",
       "1737773          0          0  \n",
       "927833           0          0  \n",
       "310330           0          0  \n",
       "1488467          0          0  "
      ]
     },
     "execution_count": 29,
     "metadata": {},
     "output_type": "execute_result"
    }
   ],
   "source": [
    "df_offline.sample(10)"
   ]
  },
  {
   "cell_type": "markdown",
   "metadata": {},
   "source": [
    "所有特征：\n",
    "- Convert_rate\n",
    "- Discount_type\n",
    "- Discount_target\n",
    "- Discount_reduce\n",
    "- Distance\n",
    "- weekday_type\n",
    "- weekday_1\n",
    "- weekday_2\n",
    "- weekday_3\n",
    "- weekday_4\n",
    "- weekday_5\n",
    "- weekday_6\n",
    "- weekday_7"
   ]
  },
  {
   "cell_type": "markdown",
   "metadata": {},
   "source": [
    "## 标签标注"
   ]
  },
  {
   "cell_type": "markdown",
   "metadata": {},
   "source": [
    "三种情况：\n",
    "\n",
    "- Date_received == 'null'：表示没有领到优惠券，无需考虑，y = -1\n",
    "\n",
    "- (Date_received != 'null') & (Date != 'null') & (Date - Date_received <= 15)：表示领取优惠券且在15天内使用，即正样本，y = 1\n",
    "\n",
    "- (Date_received != 'null') & ((Date == 'null') | (Date - Date_received > 15))：表示领取优惠券未在在15天内使用，即负样本，y = 0"
   ]
  },
  {
   "cell_type": "markdown",
   "metadata": {},
   "source": [
    "定义标签备注函数："
   ]
  },
  {
   "cell_type": "code",
   "execution_count": 30,
   "metadata": {
    "ExecuteTime": {
     "end_time": "2019-05-05T04:22:28.230903Z",
     "start_time": "2019-05-05T04:22:28.223932Z"
    }
   },
   "outputs": [],
   "source": [
    "def label(row):\n",
    "    if row['Date_received'] == 'null':\n",
    "        return int(-1)\n",
    "    if row['Date'] != 'null':\n",
    "        td = pd.to_datetime(row['Date'], format='%Y%m%d') - pd.to_datetime(row['Date_received'], format='%Y%m%d')\n",
    "        if td <= pd.Timedelta(15, 'D'):\n",
    "            return int(1)\n",
    "    return int(0)"
   ]
  },
  {
   "cell_type": "code",
   "execution_count": 31,
   "metadata": {
    "ExecuteTime": {
     "end_time": "2019-05-05T04:23:29.502073Z",
     "start_time": "2019-05-05T04:22:28.233130Z"
    }
   },
   "outputs": [],
   "source": [
    "df_offline['label'] = df_offline.apply(label, axis=1)"
   ]
  },
  {
   "cell_type": "code",
   "execution_count": 32,
   "metadata": {
    "ExecuteTime": {
     "end_time": "2019-05-05T04:23:29.537654Z",
     "start_time": "2019-05-05T04:23:29.504562Z"
    }
   },
   "outputs": [
    {
     "name": "stdout",
     "output_type": "stream",
     "text": [
      " 0    988887\n",
      "-1    701602\n",
      " 1     64395\n",
      "Name: label, dtype: int64\n"
     ]
    }
   ],
   "source": [
    "print(df_offline['label'].value_counts())"
   ]
  },
  {
   "cell_type": "code",
   "execution_count": 33,
   "metadata": {
    "ExecuteTime": {
     "end_time": "2019-05-05T04:23:29.802597Z",
     "start_time": "2019-05-05T04:23:29.540302Z"
    }
   },
   "outputs": [
    {
     "data": {
      "text/html": [
       "<div>\n",
       "<style scoped>\n",
       "    .dataframe tbody tr th:only-of-type {\n",
       "        vertical-align: middle;\n",
       "    }\n",
       "\n",
       "    .dataframe tbody tr th {\n",
       "        vertical-align: top;\n",
       "    }\n",
       "\n",
       "    .dataframe thead th {\n",
       "        text-align: right;\n",
       "    }\n",
       "</style>\n",
       "<table border=\"1\" class=\"dataframe\">\n",
       "  <thead>\n",
       "    <tr style=\"text-align: right;\">\n",
       "      <th></th>\n",
       "      <th>User_id</th>\n",
       "      <th>Merchant_id</th>\n",
       "      <th>Coupon_id</th>\n",
       "      <th>Distance</th>\n",
       "      <th>Date_received</th>\n",
       "      <th>Date</th>\n",
       "      <th>Discount_type</th>\n",
       "      <th>Convert_rate</th>\n",
       "      <th>Discount_target</th>\n",
       "      <th>Discount_reduce</th>\n",
       "      <th>weekday_type</th>\n",
       "      <th>weekday_1</th>\n",
       "      <th>weekday_2</th>\n",
       "      <th>weekday_3</th>\n",
       "      <th>weekday_4</th>\n",
       "      <th>weekday_5</th>\n",
       "      <th>weekday_6</th>\n",
       "      <th>weekday_7</th>\n",
       "      <th>label</th>\n",
       "    </tr>\n",
       "  </thead>\n",
       "  <tbody>\n",
       "    <tr>\n",
       "      <th>1684798</th>\n",
       "      <td>6023531</td>\n",
       "      <td>4149</td>\n",
       "      <td>null</td>\n",
       "      <td>0</td>\n",
       "      <td>null</td>\n",
       "      <td>20160601</td>\n",
       "      <td>-1</td>\n",
       "      <td>1.000000</td>\n",
       "      <td>0</td>\n",
       "      <td>0</td>\n",
       "      <td>0</td>\n",
       "      <td>0</td>\n",
       "      <td>0</td>\n",
       "      <td>0</td>\n",
       "      <td>0</td>\n",
       "      <td>0</td>\n",
       "      <td>0</td>\n",
       "      <td>0</td>\n",
       "      <td>-1</td>\n",
       "    </tr>\n",
       "    <tr>\n",
       "      <th>6869</th>\n",
       "      <td>4959960</td>\n",
       "      <td>4860</td>\n",
       "      <td>8105</td>\n",
       "      <td>10</td>\n",
       "      <td>20160201</td>\n",
       "      <td>null</td>\n",
       "      <td>1</td>\n",
       "      <td>0.700000</td>\n",
       "      <td>100</td>\n",
       "      <td>30</td>\n",
       "      <td>0</td>\n",
       "      <td>1</td>\n",
       "      <td>0</td>\n",
       "      <td>0</td>\n",
       "      <td>0</td>\n",
       "      <td>0</td>\n",
       "      <td>0</td>\n",
       "      <td>0</td>\n",
       "      <td>0</td>\n",
       "    </tr>\n",
       "    <tr>\n",
       "      <th>307396</th>\n",
       "      <td>6200729</td>\n",
       "      <td>8035</td>\n",
       "      <td>null</td>\n",
       "      <td>1</td>\n",
       "      <td>null</td>\n",
       "      <td>20160622</td>\n",
       "      <td>-1</td>\n",
       "      <td>1.000000</td>\n",
       "      <td>0</td>\n",
       "      <td>0</td>\n",
       "      <td>0</td>\n",
       "      <td>0</td>\n",
       "      <td>0</td>\n",
       "      <td>0</td>\n",
       "      <td>0</td>\n",
       "      <td>0</td>\n",
       "      <td>0</td>\n",
       "      <td>0</td>\n",
       "      <td>-1</td>\n",
       "    </tr>\n",
       "    <tr>\n",
       "      <th>106674</th>\n",
       "      <td>3158030</td>\n",
       "      <td>2934</td>\n",
       "      <td>null</td>\n",
       "      <td>0</td>\n",
       "      <td>null</td>\n",
       "      <td>20160520</td>\n",
       "      <td>-1</td>\n",
       "      <td>1.000000</td>\n",
       "      <td>0</td>\n",
       "      <td>0</td>\n",
       "      <td>0</td>\n",
       "      <td>0</td>\n",
       "      <td>0</td>\n",
       "      <td>0</td>\n",
       "      <td>0</td>\n",
       "      <td>0</td>\n",
       "      <td>0</td>\n",
       "      <td>0</td>\n",
       "      <td>-1</td>\n",
       "    </tr>\n",
       "    <tr>\n",
       "      <th>1507092</th>\n",
       "      <td>5671578</td>\n",
       "      <td>8605</td>\n",
       "      <td>null</td>\n",
       "      <td>0</td>\n",
       "      <td>null</td>\n",
       "      <td>20160513</td>\n",
       "      <td>-1</td>\n",
       "      <td>1.000000</td>\n",
       "      <td>0</td>\n",
       "      <td>0</td>\n",
       "      <td>0</td>\n",
       "      <td>0</td>\n",
       "      <td>0</td>\n",
       "      <td>0</td>\n",
       "      <td>0</td>\n",
       "      <td>0</td>\n",
       "      <td>0</td>\n",
       "      <td>0</td>\n",
       "      <td>-1</td>\n",
       "    </tr>\n",
       "    <tr>\n",
       "      <th>1084717</th>\n",
       "      <td>4390035</td>\n",
       "      <td>2146</td>\n",
       "      <td>11173</td>\n",
       "      <td>1</td>\n",
       "      <td>20160130</td>\n",
       "      <td>null</td>\n",
       "      <td>1</td>\n",
       "      <td>0.900000</td>\n",
       "      <td>100</td>\n",
       "      <td>10</td>\n",
       "      <td>1</td>\n",
       "      <td>0</td>\n",
       "      <td>0</td>\n",
       "      <td>0</td>\n",
       "      <td>0</td>\n",
       "      <td>0</td>\n",
       "      <td>1</td>\n",
       "      <td>0</td>\n",
       "      <td>0</td>\n",
       "    </tr>\n",
       "    <tr>\n",
       "      <th>838694</th>\n",
       "      <td>4341313</td>\n",
       "      <td>3381</td>\n",
       "      <td>12821</td>\n",
       "      <td>0</td>\n",
       "      <td>20160125</td>\n",
       "      <td>null</td>\n",
       "      <td>1</td>\n",
       "      <td>0.900000</td>\n",
       "      <td>200</td>\n",
       "      <td>20</td>\n",
       "      <td>0</td>\n",
       "      <td>1</td>\n",
       "      <td>0</td>\n",
       "      <td>0</td>\n",
       "      <td>0</td>\n",
       "      <td>0</td>\n",
       "      <td>0</td>\n",
       "      <td>0</td>\n",
       "      <td>0</td>\n",
       "    </tr>\n",
       "    <tr>\n",
       "      <th>1569068</th>\n",
       "      <td>3638819</td>\n",
       "      <td>1469</td>\n",
       "      <td>null</td>\n",
       "      <td>0</td>\n",
       "      <td>null</td>\n",
       "      <td>20160519</td>\n",
       "      <td>-1</td>\n",
       "      <td>1.000000</td>\n",
       "      <td>0</td>\n",
       "      <td>0</td>\n",
       "      <td>0</td>\n",
       "      <td>0</td>\n",
       "      <td>0</td>\n",
       "      <td>0</td>\n",
       "      <td>0</td>\n",
       "      <td>0</td>\n",
       "      <td>0</td>\n",
       "      <td>0</td>\n",
       "      <td>-1</td>\n",
       "    </tr>\n",
       "    <tr>\n",
       "      <th>1142881</th>\n",
       "      <td>6615664</td>\n",
       "      <td>4663</td>\n",
       "      <td>818</td>\n",
       "      <td>7</td>\n",
       "      <td>20160124</td>\n",
       "      <td>null</td>\n",
       "      <td>1</td>\n",
       "      <td>0.866667</td>\n",
       "      <td>150</td>\n",
       "      <td>20</td>\n",
       "      <td>1</td>\n",
       "      <td>0</td>\n",
       "      <td>0</td>\n",
       "      <td>0</td>\n",
       "      <td>0</td>\n",
       "      <td>0</td>\n",
       "      <td>0</td>\n",
       "      <td>1</td>\n",
       "      <td>0</td>\n",
       "    </tr>\n",
       "    <tr>\n",
       "      <th>406285</th>\n",
       "      <td>6050954</td>\n",
       "      <td>3381</td>\n",
       "      <td>null</td>\n",
       "      <td>10</td>\n",
       "      <td>null</td>\n",
       "      <td>20160119</td>\n",
       "      <td>-1</td>\n",
       "      <td>1.000000</td>\n",
       "      <td>0</td>\n",
       "      <td>0</td>\n",
       "      <td>0</td>\n",
       "      <td>0</td>\n",
       "      <td>0</td>\n",
       "      <td>0</td>\n",
       "      <td>0</td>\n",
       "      <td>0</td>\n",
       "      <td>0</td>\n",
       "      <td>0</td>\n",
       "      <td>-1</td>\n",
       "    </tr>\n",
       "  </tbody>\n",
       "</table>\n",
       "</div>"
      ],
      "text/plain": [
       "         User_id  Merchant_id Coupon_id  Distance Date_received      Date  \\\n",
       "1684798  6023531         4149      null         0          null  20160601   \n",
       "6869     4959960         4860      8105        10      20160201      null   \n",
       "307396   6200729         8035      null         1          null  20160622   \n",
       "106674   3158030         2934      null         0          null  20160520   \n",
       "1507092  5671578         8605      null         0          null  20160513   \n",
       "1084717  4390035         2146     11173         1      20160130      null   \n",
       "838694   4341313         3381     12821         0      20160125      null   \n",
       "1569068  3638819         1469      null         0          null  20160519   \n",
       "1142881  6615664         4663       818         7      20160124      null   \n",
       "406285   6050954         3381      null        10          null  20160119   \n",
       "\n",
       "         Discount_type  Convert_rate  Discount_target  Discount_reduce  \\\n",
       "1684798             -1      1.000000                0                0   \n",
       "6869                 1      0.700000              100               30   \n",
       "307396              -1      1.000000                0                0   \n",
       "106674              -1      1.000000                0                0   \n",
       "1507092             -1      1.000000                0                0   \n",
       "1084717              1      0.900000              100               10   \n",
       "838694               1      0.900000              200               20   \n",
       "1569068             -1      1.000000                0                0   \n",
       "1142881              1      0.866667              150               20   \n",
       "406285              -1      1.000000                0                0   \n",
       "\n",
       "         weekday_type  weekday_1  weekday_2  weekday_3  weekday_4  weekday_5  \\\n",
       "1684798             0          0          0          0          0          0   \n",
       "6869                0          1          0          0          0          0   \n",
       "307396              0          0          0          0          0          0   \n",
       "106674              0          0          0          0          0          0   \n",
       "1507092             0          0          0          0          0          0   \n",
       "1084717             1          0          0          0          0          0   \n",
       "838694              0          1          0          0          0          0   \n",
       "1569068             0          0          0          0          0          0   \n",
       "1142881             1          0          0          0          0          0   \n",
       "406285              0          0          0          0          0          0   \n",
       "\n",
       "         weekday_6  weekday_7  label  \n",
       "1684798          0          0     -1  \n",
       "6869             0          0      0  \n",
       "307396           0          0     -1  \n",
       "106674           0          0     -1  \n",
       "1507092          0          0     -1  \n",
       "1084717          1          0      0  \n",
       "838694           0          0      0  \n",
       "1569068          0          0     -1  \n",
       "1142881          0          1      0  \n",
       "406285           0          0     -1  "
      ]
     },
     "execution_count": 33,
     "metadata": {},
     "output_type": "execute_result"
    }
   ],
   "source": [
    "df_offline.sample(10)"
   ]
  },
  {
   "cell_type": "markdown",
   "metadata": {},
   "source": [
    "## 建立线性模型 SGDClassifier"
   ]
  },
  {
   "cell_type": "markdown",
   "metadata": {},
   "source": [
    "- 使用上面提取的14个特征。\n",
    "\n",
    "- 训练集：20160101-20160515；验证集：20160516-20160615。\n",
    "\n",
    "- 用线性模型 SGDClassifier"
   ]
  },
  {
   "cell_type": "markdown",
   "metadata": {},
   "source": [
    "### 划分训练集/验证集"
   ]
  },
  {
   "cell_type": "code",
   "execution_count": 38,
   "metadata": {
    "ExecuteTime": {
     "end_time": "2019-05-05T04:24:50.327574Z",
     "start_time": "2019-05-05T04:24:49.597905Z"
    }
   },
   "outputs": [],
   "source": [
    "df = df_offline[df_offline['label'] != -1].copy()\n",
    "train = df[(df['Date_received'] < '20160516')].copy()\n",
    "test = df[(df['Date_received'] >= '20160516') & (df['Date_received'] <= '20160615')].copy()"
   ]
  },
  {
   "cell_type": "code",
   "execution_count": 39,
   "metadata": {
    "ExecuteTime": {
     "end_time": "2019-05-05T04:24:51.093350Z",
     "start_time": "2019-05-05T04:24:51.075698Z"
    }
   },
   "outputs": [
    {
     "data": {
      "text/plain": [
       "0    759172\n",
       "1     41524\n",
       "Name: label, dtype: int64"
      ]
     },
     "execution_count": 39,
     "metadata": {},
     "output_type": "execute_result"
    }
   ],
   "source": [
    "train['label'].value_counts()"
   ]
  },
  {
   "cell_type": "code",
   "execution_count": 40,
   "metadata": {
    "ExecuteTime": {
     "end_time": "2019-05-05T04:24:51.664137Z",
     "start_time": "2019-05-05T04:24:51.655030Z"
    }
   },
   "outputs": [
    {
     "data": {
      "text/plain": [
       "0    229715\n",
       "1     22871\n",
       "Name: label, dtype: int64"
      ]
     },
     "execution_count": 40,
     "metadata": {},
     "output_type": "execute_result"
    }
   ],
   "source": [
    "test['label'].value_counts()"
   ]
  },
  {
   "cell_type": "markdown",
   "metadata": {},
   "source": [
    "### 特征数量"
   ]
  },
  {
   "cell_type": "code",
   "execution_count": 41,
   "metadata": {
    "ExecuteTime": {
     "end_time": "2019-05-05T04:27:58.725734Z",
     "start_time": "2019-05-05T04:27:58.718127Z"
    }
   },
   "outputs": [
    {
     "name": "stdout",
     "output_type": "stream",
     "text": [
      "共有13个特征\n"
     ]
    }
   ],
   "source": [
    "factors = ['Convert_rate', 'Discount_type', 'Discount_target', 'Discount_reduce', 'Distance', 'weekday_type',\n",
    "          'weekday_1', 'weekday_2', 'weekday_3', 'weekday_4', 'weekday_5', 'weekday_6', 'weekday_7']\n",
    "print('共有{}个特征'.format(len(factors)))"
   ]
  },
  {
   "cell_type": "markdown",
   "metadata": {},
   "source": [
    "### 建立模型"
   ]
  },
  {
   "cell_type": "code",
   "execution_count": 42,
   "metadata": {
    "ExecuteTime": {
     "end_time": "2019-05-05T04:31:02.586566Z",
     "start_time": "2019-05-05T04:31:01.267437Z"
    }
   },
   "outputs": [],
   "source": [
    "from sklearn.model_selection import KFold, train_test_split, StratifiedKFold, cross_val_score, GridSearchCV\n",
    "from sklearn.pipeline import Pipeline\n",
    "from sklearn.linear_model import SGDClassifier, LogisticRegression\n",
    "from sklearn.preprocessing import StandardScaler\n",
    "from sklearn.metrics import log_loss, roc_auc_score, auc, roc_curve\n",
    "from sklearn.preprocessing import MinMaxScaler"
   ]
  },
  {
   "cell_type": "code",
   "execution_count": 43,
   "metadata": {
    "ExecuteTime": {
     "end_time": "2019-05-05T04:32:01.908960Z",
     "start_time": "2019-05-05T04:32:01.901702Z"
    }
   },
   "outputs": [],
   "source": [
    "def check_model(data, factors):\n",
    "    \n",
    "    classifier = lambda: SGDClassifier(\n",
    "        loss='log',  # loss function: logistic regression\n",
    "        penalty='elasticnet', # L1 & L2\n",
    "        fit_intercept=True,  # 是否存在截距，默认存在\n",
    "        max_iter=100, \n",
    "        shuffle=True,  # Whether or not the training data should be shuffled after each epoch\n",
    "        n_jobs=-1, # The number of processors to use\n",
    "        class_weight=None) # Weights associated with classes. If not given, all classes are supposed to have weight one.\n",
    " \n",
    "    # 管道机制使得参数集在新数据集（比如测试集）上的重复使用，管道机制实现了对全部步骤的流式化封装和管理。\n",
    "    model = Pipeline(steps=[\n",
    "        ('ss', StandardScaler()), # transformer\n",
    "        ('en', classifier())  # estimator\n",
    "    ])\n",
    " \n",
    "    parameters = {\n",
    "        'en__alpha': [ 0.001, 0.01, 0.1],\n",
    "        'en__l1_ratio': [ 0.001, 0.01, 0.1]\n",
    "    }\n",
    " \n",
    "    # StratifiedKFold用法类似Kfold，但是他是分层采样，确保训练集，测试集中各类别样本的比例与原始数据集中相同。\n",
    "    folder = StratifiedKFold(n_splits=5, shuffle=True)\n",
    "    \n",
    "    # Exhaustive search over specified parameter values for an estimator.\n",
    "    grid_search = GridSearchCV(\n",
    "        model, \n",
    "        parameters, \n",
    "        cv=folder, \n",
    "        n_jobs=-1,  # -1 means using all processors\n",
    "        verbose=1)\n",
    "    \n",
    "    grid_search = grid_search.fit(data[factors], \n",
    "                                  data['label'])\n",
    "    \n",
    "    return grid_search"
   ]
  },
  {
   "cell_type": "markdown",
   "metadata": {},
   "source": [
    "### 训练"
   ]
  },
  {
   "cell_type": "code",
   "execution_count": 44,
   "metadata": {
    "ExecuteTime": {
     "end_time": "2019-05-05T04:39:54.443069Z",
     "start_time": "2019-05-05T04:32:49.044766Z"
    }
   },
   "outputs": [
    {
     "name": "stdout",
     "output_type": "stream",
     "text": [
      "Fitting 5 folds for each of 9 candidates, totalling 45 fits\n"
     ]
    },
    {
     "name": "stderr",
     "output_type": "stream",
     "text": [
      "[Parallel(n_jobs=-1)]: Using backend LokyBackend with 4 concurrent workers.\n",
      "[Parallel(n_jobs=-1)]: Done  45 out of  45 | elapsed:  6.6min finished\n",
      "/Users/ryne/anaconda3/lib/python3.7/site-packages/sklearn/preprocessing/data.py:625: DataConversionWarning: Data with input dtype uint8, int64, float64 were all converted to float64 by StandardScaler.\n",
      "  return self.partial_fit(X, y)\n",
      "/Users/ryne/anaconda3/lib/python3.7/site-packages/sklearn/base.py:465: DataConversionWarning: Data with input dtype uint8, int64, float64 were all converted to float64 by StandardScaler.\n",
      "  return self.fit(X, y, **fit_params).transform(X)\n",
      "/Users/ryne/anaconda3/lib/python3.7/site-packages/sklearn/linear_model/stochastic_gradient.py:183: FutureWarning: max_iter and tol parameters have been added in SGDClassifier in 0.19. If max_iter is set but tol is left unset, the default value for tol in 0.19 and 0.20 will be None (which is equivalent to -infinity, so it has no effect) but will change in 0.21 to 1e-3. Specify tol to silence this warning.\n",
      "  FutureWarning)\n"
     ]
    }
   ],
   "source": [
    "model = check_model(train, factors)"
   ]
  },
  {
   "cell_type": "markdown",
   "metadata": {},
   "source": [
    "### 验证"
   ]
  },
  {
   "cell_type": "markdown",
   "metadata": {},
   "source": [
    "对验证集中每个优惠券预测的结果计算 AUC，再对所有优惠券的 AUC 求平均。计算 AUC 的时候，如果 label 只有一类，就直接跳过，因为 AUC 无法计算。"
   ]
  },
  {
   "cell_type": "code",
   "execution_count": 45,
   "metadata": {
    "ExecuteTime": {
     "end_time": "2019-05-05T04:41:35.296775Z",
     "start_time": "2019-05-05T04:41:35.010191Z"
    }
   },
   "outputs": [
    {
     "name": "stderr",
     "output_type": "stream",
     "text": [
      "/Users/ryne/anaconda3/lib/python3.7/site-packages/sklearn/pipeline.py:381: DataConversionWarning: Data with input dtype uint8, int64, float64 were all converted to float64 by StandardScaler.\n",
      "  Xt = transform.transform(Xt)\n"
     ]
    }
   ],
   "source": [
    "y_pred = model.predict_proba(test[factors])"
   ]
  },
  {
   "cell_type": "code",
   "execution_count": 46,
   "metadata": {
    "ExecuteTime": {
     "end_time": "2019-05-05T04:41:38.293386Z",
     "start_time": "2019-05-05T04:41:38.215099Z"
    }
   },
   "outputs": [],
   "source": [
    "test_tmp = test.copy()\n",
    "test_tmp['pred_prob'] = y_pred[:, 1]"
   ]
  },
  {
   "cell_type": "code",
   "execution_count": 47,
   "metadata": {
    "ExecuteTime": {
     "end_time": "2019-05-05T04:41:40.062408Z",
     "start_time": "2019-05-05T04:41:39.998460Z"
    }
   },
   "outputs": [
    {
     "data": {
      "text/html": [
       "<div>\n",
       "<style scoped>\n",
       "    .dataframe tbody tr th:only-of-type {\n",
       "        vertical-align: middle;\n",
       "    }\n",
       "\n",
       "    .dataframe tbody tr th {\n",
       "        vertical-align: top;\n",
       "    }\n",
       "\n",
       "    .dataframe thead th {\n",
       "        text-align: right;\n",
       "    }\n",
       "</style>\n",
       "<table border=\"1\" class=\"dataframe\">\n",
       "  <thead>\n",
       "    <tr style=\"text-align: right;\">\n",
       "      <th></th>\n",
       "      <th>User_id</th>\n",
       "      <th>Merchant_id</th>\n",
       "      <th>Coupon_id</th>\n",
       "      <th>Distance</th>\n",
       "      <th>Date_received</th>\n",
       "      <th>Date</th>\n",
       "      <th>Discount_type</th>\n",
       "      <th>Convert_rate</th>\n",
       "      <th>Discount_target</th>\n",
       "      <th>Discount_reduce</th>\n",
       "      <th>weekday_type</th>\n",
       "      <th>weekday_1</th>\n",
       "      <th>weekday_2</th>\n",
       "      <th>weekday_3</th>\n",
       "      <th>weekday_4</th>\n",
       "      <th>weekday_5</th>\n",
       "      <th>weekday_6</th>\n",
       "      <th>weekday_7</th>\n",
       "      <th>label</th>\n",
       "      <th>pred_prob</th>\n",
       "    </tr>\n",
       "  </thead>\n",
       "  <tbody>\n",
       "    <tr>\n",
       "      <th>1039603</th>\n",
       "      <td>2912497</td>\n",
       "      <td>760</td>\n",
       "      <td>13758</td>\n",
       "      <td>3</td>\n",
       "      <td>20160520</td>\n",
       "      <td>null</td>\n",
       "      <td>1</td>\n",
       "      <td>0.750000</td>\n",
       "      <td>20</td>\n",
       "      <td>5</td>\n",
       "      <td>0</td>\n",
       "      <td>0</td>\n",
       "      <td>0</td>\n",
       "      <td>0</td>\n",
       "      <td>0</td>\n",
       "      <td>1</td>\n",
       "      <td>0</td>\n",
       "      <td>0</td>\n",
       "      <td>0</td>\n",
       "      <td>0.067225</td>\n",
       "    </tr>\n",
       "    <tr>\n",
       "      <th>1175902</th>\n",
       "      <td>1529271</td>\n",
       "      <td>8021</td>\n",
       "      <td>12620</td>\n",
       "      <td>0</td>\n",
       "      <td>20160530</td>\n",
       "      <td>null</td>\n",
       "      <td>1</td>\n",
       "      <td>0.900000</td>\n",
       "      <td>10</td>\n",
       "      <td>1</td>\n",
       "      <td>0</td>\n",
       "      <td>1</td>\n",
       "      <td>0</td>\n",
       "      <td>0</td>\n",
       "      <td>0</td>\n",
       "      <td>0</td>\n",
       "      <td>0</td>\n",
       "      <td>0</td>\n",
       "      <td>0</td>\n",
       "      <td>0.117151</td>\n",
       "    </tr>\n",
       "    <tr>\n",
       "      <th>739586</th>\n",
       "      <td>190694</td>\n",
       "      <td>450</td>\n",
       "      <td>1613</td>\n",
       "      <td>1</td>\n",
       "      <td>20160601</td>\n",
       "      <td>null</td>\n",
       "      <td>1</td>\n",
       "      <td>0.833333</td>\n",
       "      <td>30</td>\n",
       "      <td>5</td>\n",
       "      <td>0</td>\n",
       "      <td>0</td>\n",
       "      <td>0</td>\n",
       "      <td>1</td>\n",
       "      <td>0</td>\n",
       "      <td>0</td>\n",
       "      <td>0</td>\n",
       "      <td>0</td>\n",
       "      <td>0</td>\n",
       "      <td>0.103562</td>\n",
       "    </tr>\n",
       "    <tr>\n",
       "      <th>1412774</th>\n",
       "      <td>1500537</td>\n",
       "      <td>1080</td>\n",
       "      <td>11378</td>\n",
       "      <td>0</td>\n",
       "      <td>20160517</td>\n",
       "      <td>null</td>\n",
       "      <td>1</td>\n",
       "      <td>0.950000</td>\n",
       "      <td>20</td>\n",
       "      <td>1</td>\n",
       "      <td>0</td>\n",
       "      <td>0</td>\n",
       "      <td>1</td>\n",
       "      <td>0</td>\n",
       "      <td>0</td>\n",
       "      <td>0</td>\n",
       "      <td>0</td>\n",
       "      <td>0</td>\n",
       "      <td>0</td>\n",
       "      <td>0.133804</td>\n",
       "    </tr>\n",
       "    <tr>\n",
       "      <th>26497</th>\n",
       "      <td>2397068</td>\n",
       "      <td>4759</td>\n",
       "      <td>13552</td>\n",
       "      <td>0</td>\n",
       "      <td>20160526</td>\n",
       "      <td>null</td>\n",
       "      <td>1</td>\n",
       "      <td>0.900000</td>\n",
       "      <td>50</td>\n",
       "      <td>5</td>\n",
       "      <td>0</td>\n",
       "      <td>0</td>\n",
       "      <td>0</td>\n",
       "      <td>0</td>\n",
       "      <td>1</td>\n",
       "      <td>0</td>\n",
       "      <td>0</td>\n",
       "      <td>0</td>\n",
       "      <td>0</td>\n",
       "      <td>0.099307</td>\n",
       "    </tr>\n",
       "    <tr>\n",
       "      <th>624402</th>\n",
       "      <td>5141324</td>\n",
       "      <td>6901</td>\n",
       "      <td>2366</td>\n",
       "      <td>0</td>\n",
       "      <td>20160521</td>\n",
       "      <td>null</td>\n",
       "      <td>1</td>\n",
       "      <td>0.833333</td>\n",
       "      <td>30</td>\n",
       "      <td>5</td>\n",
       "      <td>1</td>\n",
       "      <td>0</td>\n",
       "      <td>0</td>\n",
       "      <td>0</td>\n",
       "      <td>0</td>\n",
       "      <td>0</td>\n",
       "      <td>1</td>\n",
       "      <td>0</td>\n",
       "      <td>0</td>\n",
       "      <td>0.115482</td>\n",
       "    </tr>\n",
       "    <tr>\n",
       "      <th>1457417</th>\n",
       "      <td>4313157</td>\n",
       "      <td>450</td>\n",
       "      <td>1613</td>\n",
       "      <td>0</td>\n",
       "      <td>20160603</td>\n",
       "      <td>null</td>\n",
       "      <td>1</td>\n",
       "      <td>0.833333</td>\n",
       "      <td>30</td>\n",
       "      <td>5</td>\n",
       "      <td>0</td>\n",
       "      <td>0</td>\n",
       "      <td>0</td>\n",
       "      <td>0</td>\n",
       "      <td>0</td>\n",
       "      <td>1</td>\n",
       "      <td>0</td>\n",
       "      <td>0</td>\n",
       "      <td>0</td>\n",
       "      <td>0.102182</td>\n",
       "    </tr>\n",
       "    <tr>\n",
       "      <th>1663385</th>\n",
       "      <td>6684695</td>\n",
       "      <td>760</td>\n",
       "      <td>2418</td>\n",
       "      <td>0</td>\n",
       "      <td>20160605</td>\n",
       "      <td>null</td>\n",
       "      <td>1</td>\n",
       "      <td>0.833333</td>\n",
       "      <td>30</td>\n",
       "      <td>5</td>\n",
       "      <td>1</td>\n",
       "      <td>0</td>\n",
       "      <td>0</td>\n",
       "      <td>0</td>\n",
       "      <td>0</td>\n",
       "      <td>0</td>\n",
       "      <td>0</td>\n",
       "      <td>1</td>\n",
       "      <td>0</td>\n",
       "      <td>0.090458</td>\n",
       "    </tr>\n",
       "    <tr>\n",
       "      <th>140271</th>\n",
       "      <td>4347024</td>\n",
       "      <td>3621</td>\n",
       "      <td>2705</td>\n",
       "      <td>0</td>\n",
       "      <td>20160522</td>\n",
       "      <td>null</td>\n",
       "      <td>1</td>\n",
       "      <td>0.750000</td>\n",
       "      <td>20</td>\n",
       "      <td>5</td>\n",
       "      <td>1</td>\n",
       "      <td>0</td>\n",
       "      <td>0</td>\n",
       "      <td>0</td>\n",
       "      <td>0</td>\n",
       "      <td>0</td>\n",
       "      <td>0</td>\n",
       "      <td>1</td>\n",
       "      <td>0</td>\n",
       "      <td>0.110402</td>\n",
       "    </tr>\n",
       "    <tr>\n",
       "      <th>1134816</th>\n",
       "      <td>3184426</td>\n",
       "      <td>760</td>\n",
       "      <td>2418</td>\n",
       "      <td>2</td>\n",
       "      <td>20160612</td>\n",
       "      <td>null</td>\n",
       "      <td>1</td>\n",
       "      <td>0.833333</td>\n",
       "      <td>30</td>\n",
       "      <td>5</td>\n",
       "      <td>1</td>\n",
       "      <td>0</td>\n",
       "      <td>0</td>\n",
       "      <td>0</td>\n",
       "      <td>0</td>\n",
       "      <td>0</td>\n",
       "      <td>0</td>\n",
       "      <td>1</td>\n",
       "      <td>0</td>\n",
       "      <td>0.059509</td>\n",
       "    </tr>\n",
       "  </tbody>\n",
       "</table>\n",
       "</div>"
      ],
      "text/plain": [
       "         User_id  Merchant_id Coupon_id  Distance Date_received  Date  \\\n",
       "1039603  2912497          760     13758         3      20160520  null   \n",
       "1175902  1529271         8021     12620         0      20160530  null   \n",
       "739586    190694          450      1613         1      20160601  null   \n",
       "1412774  1500537         1080     11378         0      20160517  null   \n",
       "26497    2397068         4759     13552         0      20160526  null   \n",
       "624402   5141324         6901      2366         0      20160521  null   \n",
       "1457417  4313157          450      1613         0      20160603  null   \n",
       "1663385  6684695          760      2418         0      20160605  null   \n",
       "140271   4347024         3621      2705         0      20160522  null   \n",
       "1134816  3184426          760      2418         2      20160612  null   \n",
       "\n",
       "         Discount_type  Convert_rate  Discount_target  Discount_reduce  \\\n",
       "1039603              1      0.750000               20                5   \n",
       "1175902              1      0.900000               10                1   \n",
       "739586               1      0.833333               30                5   \n",
       "1412774              1      0.950000               20                1   \n",
       "26497                1      0.900000               50                5   \n",
       "624402               1      0.833333               30                5   \n",
       "1457417              1      0.833333               30                5   \n",
       "1663385              1      0.833333               30                5   \n",
       "140271               1      0.750000               20                5   \n",
       "1134816              1      0.833333               30                5   \n",
       "\n",
       "         weekday_type  weekday_1  weekday_2  weekday_3  weekday_4  weekday_5  \\\n",
       "1039603             0          0          0          0          0          1   \n",
       "1175902             0          1          0          0          0          0   \n",
       "739586              0          0          0          1          0          0   \n",
       "1412774             0          0          1          0          0          0   \n",
       "26497               0          0          0          0          1          0   \n",
       "624402              1          0          0          0          0          0   \n",
       "1457417             0          0          0          0          0          1   \n",
       "1663385             1          0          0          0          0          0   \n",
       "140271              1          0          0          0          0          0   \n",
       "1134816             1          0          0          0          0          0   \n",
       "\n",
       "         weekday_6  weekday_7  label  pred_prob  \n",
       "1039603          0          0      0   0.067225  \n",
       "1175902          0          0      0   0.117151  \n",
       "739586           0          0      0   0.103562  \n",
       "1412774          0          0      0   0.133804  \n",
       "26497            0          0      0   0.099307  \n",
       "624402           1          0      0   0.115482  \n",
       "1457417          0          0      0   0.102182  \n",
       "1663385          0          1      0   0.090458  \n",
       "140271           0          1      0   0.110402  \n",
       "1134816          0          1      0   0.059509  "
      ]
     },
     "execution_count": 47,
     "metadata": {},
     "output_type": "execute_result"
    }
   ],
   "source": [
    "test_tmp.sample(10)"
   ]
  },
  {
   "cell_type": "markdown",
   "metadata": {},
   "source": [
    "#### 计算AUC"
   ]
  },
  {
   "cell_type": "code",
   "execution_count": 54,
   "metadata": {
    "ExecuteTime": {
     "end_time": "2019-05-05T04:44:12.258444Z",
     "start_time": "2019-05-05T04:44:07.556311Z"
    }
   },
   "outputs": [
    {
     "name": "stdout",
     "output_type": "stream",
     "text": [
      "0.5323444694516164\n"
     ]
    }
   ],
   "source": [
    "test_group = test_tmp.groupby(['Coupon_id'])\n",
    "aucs = []\n",
    "for i in test_group:\n",
    "    tmp_df = i[1] \n",
    "    if len(tmp_df['label'].unique()) != 2:\n",
    "        continue\n",
    "    fpr, tpr, thresholds = roc_curve(tmp_df['label'], tmp_df['pred_prob'], pos_label=1)\n",
    "    aucs.append(auc(fpr, tpr))\n",
    "print(np.average(aucs))"
   ]
  },
  {
   "cell_type": "markdown",
   "metadata": {
    "ExecuteTime": {
     "end_time": "2019-05-05T04:43:09.158050Z",
     "start_time": "2019-05-05T04:43:09.153601Z"
    }
   },
   "source": [
    "## 测试"
   ]
  },
  {
   "cell_type": "code",
   "execution_count": 57,
   "metadata": {
    "ExecuteTime": {
     "end_time": "2019-05-05T04:48:16.066225Z",
     "start_time": "2019-05-05T04:48:15.239418Z"
    }
   },
   "outputs": [
    {
     "name": "stderr",
     "output_type": "stream",
     "text": [
      "/Users/ryne/anaconda3/lib/python3.7/site-packages/sklearn/pipeline.py:381: DataConversionWarning: Data with input dtype uint8, int64, float64 were all converted to float64 by StandardScaler.\n",
      "  Xt = transform.transform(Xt)\n"
     ]
    }
   ],
   "source": [
    "# test prediction for submission\n",
    "y_test_pred = model.predict_proba(df_test[factors])\n",
    "df_result = df_test[['User_id','Coupon_id','Date_received']].copy()\n",
    "df_result['Probability'] = y_test_pred[:,1]\n",
    "df_result.to_csv('submit1.csv', index=False, header=False)"
   ]
  },
  {
   "cell_type": "code",
   "execution_count": 58,
   "metadata": {
    "ExecuteTime": {
     "end_time": "2019-05-05T04:48:24.647395Z",
     "start_time": "2019-05-05T04:48:24.631598Z"
    }
   },
   "outputs": [
    {
     "data": {
      "text/html": [
       "<div>\n",
       "<style scoped>\n",
       "    .dataframe tbody tr th:only-of-type {\n",
       "        vertical-align: middle;\n",
       "    }\n",
       "\n",
       "    .dataframe tbody tr th {\n",
       "        vertical-align: top;\n",
       "    }\n",
       "\n",
       "    .dataframe thead th {\n",
       "        text-align: right;\n",
       "    }\n",
       "</style>\n",
       "<table border=\"1\" class=\"dataframe\">\n",
       "  <thead>\n",
       "    <tr style=\"text-align: right;\">\n",
       "      <th></th>\n",
       "      <th>User_id</th>\n",
       "      <th>Coupon_id</th>\n",
       "      <th>Date_received</th>\n",
       "      <th>Probability</th>\n",
       "    </tr>\n",
       "  </thead>\n",
       "  <tbody>\n",
       "    <tr>\n",
       "      <th>71739</th>\n",
       "      <td>845503</td>\n",
       "      <td>13602</td>\n",
       "      <td>20160721</td>\n",
       "      <td>0.014963</td>\n",
       "    </tr>\n",
       "    <tr>\n",
       "      <th>6966</th>\n",
       "      <td>2676859</td>\n",
       "      <td>9983</td>\n",
       "      <td>20160722</td>\n",
       "      <td>0.035442</td>\n",
       "    </tr>\n",
       "    <tr>\n",
       "      <th>19376</th>\n",
       "      <td>943076</td>\n",
       "      <td>7083</td>\n",
       "      <td>20160727</td>\n",
       "      <td>0.068467</td>\n",
       "    </tr>\n",
       "    <tr>\n",
       "      <th>88736</th>\n",
       "      <td>5525831</td>\n",
       "      <td>3629</td>\n",
       "      <td>20160724</td>\n",
       "      <td>0.025390</td>\n",
       "    </tr>\n",
       "    <tr>\n",
       "      <th>1241</th>\n",
       "      <td>6224530</td>\n",
       "      <td>9983</td>\n",
       "      <td>20160729</td>\n",
       "      <td>0.102182</td>\n",
       "    </tr>\n",
       "    <tr>\n",
       "      <th>15531</th>\n",
       "      <td>1238679</td>\n",
       "      <td>10418</td>\n",
       "      <td>20160703</td>\n",
       "      <td>0.090458</td>\n",
       "    </tr>\n",
       "    <tr>\n",
       "      <th>53276</th>\n",
       "      <td>1738645</td>\n",
       "      <td>13602</td>\n",
       "      <td>20160719</td>\n",
       "      <td>0.128350</td>\n",
       "    </tr>\n",
       "    <tr>\n",
       "      <th>61608</th>\n",
       "      <td>1781245</td>\n",
       "      <td>3780</td>\n",
       "      <td>20160705</td>\n",
       "      <td>0.017199</td>\n",
       "    </tr>\n",
       "    <tr>\n",
       "      <th>69836</th>\n",
       "      <td>1508197</td>\n",
       "      <td>9983</td>\n",
       "      <td>20160711</td>\n",
       "      <td>0.011036</td>\n",
       "    </tr>\n",
       "    <tr>\n",
       "      <th>6688</th>\n",
       "      <td>7066846</td>\n",
       "      <td>13602</td>\n",
       "      <td>20160712</td>\n",
       "      <td>0.105106</td>\n",
       "    </tr>\n",
       "  </tbody>\n",
       "</table>\n",
       "</div>"
      ],
      "text/plain": [
       "       User_id  Coupon_id  Date_received  Probability\n",
       "71739   845503      13602       20160721     0.014963\n",
       "6966   2676859       9983       20160722     0.035442\n",
       "19376   943076       7083       20160727     0.068467\n",
       "88736  5525831       3629       20160724     0.025390\n",
       "1241   6224530       9983       20160729     0.102182\n",
       "15531  1238679      10418       20160703     0.090458\n",
       "53276  1738645      13602       20160719     0.128350\n",
       "61608  1781245       3780       20160705     0.017199\n",
       "69836  1508197       9983       20160711     0.011036\n",
       "6688   7066846      13602       20160712     0.105106"
      ]
     },
     "execution_count": 58,
     "metadata": {},
     "output_type": "execute_result"
    }
   ],
   "source": [
    "df_result.sample(10)"
   ]
  },
  {
   "cell_type": "markdown",
   "metadata": {},
   "source": [
    "## 保存模型 & 导入模型"
   ]
  },
  {
   "cell_type": "code",
   "execution_count": 61,
   "metadata": {
    "ExecuteTime": {
     "end_time": "2019-05-05T04:49:43.141648Z",
     "start_time": "2019-05-05T04:49:43.136558Z"
    }
   },
   "outputs": [],
   "source": [
    "import os\n",
    "import pickle"
   ]
  },
  {
   "cell_type": "code",
   "execution_count": 62,
   "metadata": {
    "ExecuteTime": {
     "end_time": "2019-05-05T04:49:53.981503Z",
     "start_time": "2019-05-05T04:49:53.971102Z"
    }
   },
   "outputs": [
    {
     "name": "stderr",
     "output_type": "stream",
     "text": [
      "/Users/ryne/anaconda3/lib/python3.7/site-packages/sklearn/base.py:251: UserWarning: Trying to unpickle estimator StandardScaler from version 0.19.0 when using version 0.20.2. This might lead to breaking code or invalid results. Use at your own risk.\n",
      "  UserWarning)\n",
      "/Users/ryne/anaconda3/lib/python3.7/site-packages/sklearn/base.py:251: UserWarning: Trying to unpickle estimator SGDClassifier from version 0.19.0 when using version 0.20.2. This might lead to breaking code or invalid results. Use at your own risk.\n",
      "  UserWarning)\n",
      "/Users/ryne/anaconda3/lib/python3.7/site-packages/sklearn/base.py:251: UserWarning: Trying to unpickle estimator Pipeline from version 0.19.0 when using version 0.20.2. This might lead to breaking code or invalid results. Use at your own risk.\n",
      "  UserWarning)\n",
      "/Users/ryne/anaconda3/lib/python3.7/site-packages/sklearn/base.py:251: UserWarning: Trying to unpickle estimator GridSearchCV from version 0.19.0 when using version 0.20.2. This might lead to breaking code or invalid results. Use at your own risk.\n",
      "  UserWarning)\n"
     ]
    }
   ],
   "source": [
    "if not os.path.isfile('1_model.pkl'):\n",
    "    with open('1_model.pkl', 'wb') as f:\n",
    "        pickle.dump(model, f)\n",
    "else:\n",
    "    with open('1_model.pkl', 'rb') as f:\n",
    "        model = pickle.load(f)"
   ]
  }
 ],
 "metadata": {
  "kernelspec": {
   "display_name": "Python 3",
   "language": "python",
   "name": "python3"
  },
  "language_info": {
   "codemirror_mode": {
    "name": "ipython",
    "version": 3
   },
   "file_extension": ".py",
   "mimetype": "text/x-python",
   "name": "python",
   "nbconvert_exporter": "python",
   "pygments_lexer": "ipython3",
   "version": "3.7.2"
  },
  "toc": {
   "base_numbering": 1,
   "nav_menu": {},
   "number_sections": true,
   "sideBar": true,
   "skip_h1_title": true,
   "title_cell": "Table of Contents",
   "title_sidebar": "Contents",
   "toc_cell": false,
   "toc_position": {},
   "toc_section_display": true,
   "toc_window_display": false
  }
 },
 "nbformat": 4,
 "nbformat_minor": 2
}
